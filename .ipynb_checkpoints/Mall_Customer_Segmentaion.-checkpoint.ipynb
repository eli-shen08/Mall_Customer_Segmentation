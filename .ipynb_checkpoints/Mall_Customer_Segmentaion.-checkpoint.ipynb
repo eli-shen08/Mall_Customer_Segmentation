{
 "cells": [
  {
   "cell_type": "code",
   "execution_count": 4,
   "id": "497eb6aa",
   "metadata": {},
   "outputs": [],
   "source": [
    "import matplotlib.pyplot as plt\n",
    "import seaborn as sns\n",
    "import pandas as pd\n",
    "import warnings\n",
    "warnings.filterwarnings('ignore')"
   ]
  },
  {
   "cell_type": "code",
   "execution_count": 5,
   "id": "a8611fb9",
   "metadata": {},
   "outputs": [],
   "source": [
    "df = pd.read_csv('./Mall_Customers.csv')"
   ]
  },
  {
   "cell_type": "code",
   "execution_count": 6,
   "id": "4c0e7bcc",
   "metadata": {},
   "outputs": [
    {
     "data": {
      "text/plain": [
       "(200, 5)"
      ]
     },
     "execution_count": 6,
     "metadata": {},
     "output_type": "execute_result"
    }
   ],
   "source": [
    "df.shape"
   ]
  },
  {
   "cell_type": "code",
   "execution_count": 7,
   "id": "c5abe49d",
   "metadata": {},
   "outputs": [
    {
     "data": {
      "text/html": [
       "<div>\n",
       "<style scoped>\n",
       "    .dataframe tbody tr th:only-of-type {\n",
       "        vertical-align: middle;\n",
       "    }\n",
       "\n",
       "    .dataframe tbody tr th {\n",
       "        vertical-align: top;\n",
       "    }\n",
       "\n",
       "    .dataframe thead th {\n",
       "        text-align: right;\n",
       "    }\n",
       "</style>\n",
       "<table border=\"1\" class=\"dataframe\">\n",
       "  <thead>\n",
       "    <tr style=\"text-align: right;\">\n",
       "      <th></th>\n",
       "      <th>CustomerID</th>\n",
       "      <th>Genre</th>\n",
       "      <th>Age</th>\n",
       "      <th>Annual Income (k$)</th>\n",
       "      <th>Spending Score (1-100)</th>\n",
       "    </tr>\n",
       "  </thead>\n",
       "  <tbody>\n",
       "    <tr>\n",
       "      <th>0</th>\n",
       "      <td>1</td>\n",
       "      <td>Male</td>\n",
       "      <td>19</td>\n",
       "      <td>15</td>\n",
       "      <td>39</td>\n",
       "    </tr>\n",
       "    <tr>\n",
       "      <th>1</th>\n",
       "      <td>2</td>\n",
       "      <td>Male</td>\n",
       "      <td>21</td>\n",
       "      <td>15</td>\n",
       "      <td>81</td>\n",
       "    </tr>\n",
       "    <tr>\n",
       "      <th>2</th>\n",
       "      <td>3</td>\n",
       "      <td>Female</td>\n",
       "      <td>20</td>\n",
       "      <td>16</td>\n",
       "      <td>6</td>\n",
       "    </tr>\n",
       "    <tr>\n",
       "      <th>3</th>\n",
       "      <td>4</td>\n",
       "      <td>Female</td>\n",
       "      <td>23</td>\n",
       "      <td>16</td>\n",
       "      <td>77</td>\n",
       "    </tr>\n",
       "    <tr>\n",
       "      <th>4</th>\n",
       "      <td>5</td>\n",
       "      <td>Female</td>\n",
       "      <td>31</td>\n",
       "      <td>17</td>\n",
       "      <td>40</td>\n",
       "    </tr>\n",
       "  </tbody>\n",
       "</table>\n",
       "</div>"
      ],
      "text/plain": [
       "   CustomerID   Genre  Age  Annual Income (k$)  Spending Score (1-100)\n",
       "0           1    Male   19                  15                      39\n",
       "1           2    Male   21                  15                      81\n",
       "2           3  Female   20                  16                       6\n",
       "3           4  Female   23                  16                      77\n",
       "4           5  Female   31                  17                      40"
      ]
     },
     "execution_count": 7,
     "metadata": {},
     "output_type": "execute_result"
    }
   ],
   "source": [
    "df.head()"
   ]
  },
  {
   "cell_type": "code",
   "execution_count": 8,
   "id": "7df0274f",
   "metadata": {},
   "outputs": [],
   "source": [
    "# Renaming Genre column to gender\n",
    "df = df.rename(columns={'Genre': 'Gender'})"
   ]
  },
  {
   "cell_type": "code",
   "execution_count": 9,
   "id": "8271eaad",
   "metadata": {},
   "outputs": [
    {
     "data": {
      "text/html": [
       "<div>\n",
       "<style scoped>\n",
       "    .dataframe tbody tr th:only-of-type {\n",
       "        vertical-align: middle;\n",
       "    }\n",
       "\n",
       "    .dataframe tbody tr th {\n",
       "        vertical-align: top;\n",
       "    }\n",
       "\n",
       "    .dataframe thead th {\n",
       "        text-align: right;\n",
       "    }\n",
       "</style>\n",
       "<table border=\"1\" class=\"dataframe\">\n",
       "  <thead>\n",
       "    <tr style=\"text-align: right;\">\n",
       "      <th></th>\n",
       "      <th>CustomerID</th>\n",
       "      <th>Gender</th>\n",
       "      <th>Age</th>\n",
       "      <th>Annual Income (k$)</th>\n",
       "      <th>Spending Score (1-100)</th>\n",
       "    </tr>\n",
       "  </thead>\n",
       "  <tbody>\n",
       "    <tr>\n",
       "      <th>0</th>\n",
       "      <td>1</td>\n",
       "      <td>Male</td>\n",
       "      <td>19</td>\n",
       "      <td>15</td>\n",
       "      <td>39</td>\n",
       "    </tr>\n",
       "    <tr>\n",
       "      <th>1</th>\n",
       "      <td>2</td>\n",
       "      <td>Male</td>\n",
       "      <td>21</td>\n",
       "      <td>15</td>\n",
       "      <td>81</td>\n",
       "    </tr>\n",
       "    <tr>\n",
       "      <th>2</th>\n",
       "      <td>3</td>\n",
       "      <td>Female</td>\n",
       "      <td>20</td>\n",
       "      <td>16</td>\n",
       "      <td>6</td>\n",
       "    </tr>\n",
       "    <tr>\n",
       "      <th>3</th>\n",
       "      <td>4</td>\n",
       "      <td>Female</td>\n",
       "      <td>23</td>\n",
       "      <td>16</td>\n",
       "      <td>77</td>\n",
       "    </tr>\n",
       "    <tr>\n",
       "      <th>4</th>\n",
       "      <td>5</td>\n",
       "      <td>Female</td>\n",
       "      <td>31</td>\n",
       "      <td>17</td>\n",
       "      <td>40</td>\n",
       "    </tr>\n",
       "  </tbody>\n",
       "</table>\n",
       "</div>"
      ],
      "text/plain": [
       "   CustomerID  Gender  Age  Annual Income (k$)  Spending Score (1-100)\n",
       "0           1    Male   19                  15                      39\n",
       "1           2    Male   21                  15                      81\n",
       "2           3  Female   20                  16                       6\n",
       "3           4  Female   23                  16                      77\n",
       "4           5  Female   31                  17                      40"
      ]
     },
     "execution_count": 9,
     "metadata": {},
     "output_type": "execute_result"
    }
   ],
   "source": [
    "df.head()"
   ]
  },
  {
   "cell_type": "code",
   "execution_count": 10,
   "id": "2f002f9b",
   "metadata": {},
   "outputs": [
    {
     "data": {
      "text/html": [
       "<div>\n",
       "<style scoped>\n",
       "    .dataframe tbody tr th:only-of-type {\n",
       "        vertical-align: middle;\n",
       "    }\n",
       "\n",
       "    .dataframe tbody tr th {\n",
       "        vertical-align: top;\n",
       "    }\n",
       "\n",
       "    .dataframe thead th {\n",
       "        text-align: right;\n",
       "    }\n",
       "</style>\n",
       "<table border=\"1\" class=\"dataframe\">\n",
       "  <thead>\n",
       "    <tr style=\"text-align: right;\">\n",
       "      <th></th>\n",
       "      <th>CustomerID</th>\n",
       "      <th>Age</th>\n",
       "      <th>Annual Income (k$)</th>\n",
       "      <th>Spending Score (1-100)</th>\n",
       "    </tr>\n",
       "  </thead>\n",
       "  <tbody>\n",
       "    <tr>\n",
       "      <th>count</th>\n",
       "      <td>200.000000</td>\n",
       "      <td>200.000000</td>\n",
       "      <td>200.000000</td>\n",
       "      <td>200.000000</td>\n",
       "    </tr>\n",
       "    <tr>\n",
       "      <th>mean</th>\n",
       "      <td>100.500000</td>\n",
       "      <td>38.850000</td>\n",
       "      <td>60.560000</td>\n",
       "      <td>50.200000</td>\n",
       "    </tr>\n",
       "    <tr>\n",
       "      <th>std</th>\n",
       "      <td>57.879185</td>\n",
       "      <td>13.969007</td>\n",
       "      <td>26.264721</td>\n",
       "      <td>25.823522</td>\n",
       "    </tr>\n",
       "    <tr>\n",
       "      <th>min</th>\n",
       "      <td>1.000000</td>\n",
       "      <td>18.000000</td>\n",
       "      <td>15.000000</td>\n",
       "      <td>1.000000</td>\n",
       "    </tr>\n",
       "    <tr>\n",
       "      <th>25%</th>\n",
       "      <td>50.750000</td>\n",
       "      <td>28.750000</td>\n",
       "      <td>41.500000</td>\n",
       "      <td>34.750000</td>\n",
       "    </tr>\n",
       "    <tr>\n",
       "      <th>50%</th>\n",
       "      <td>100.500000</td>\n",
       "      <td>36.000000</td>\n",
       "      <td>61.500000</td>\n",
       "      <td>50.000000</td>\n",
       "    </tr>\n",
       "    <tr>\n",
       "      <th>75%</th>\n",
       "      <td>150.250000</td>\n",
       "      <td>49.000000</td>\n",
       "      <td>78.000000</td>\n",
       "      <td>73.000000</td>\n",
       "    </tr>\n",
       "    <tr>\n",
       "      <th>max</th>\n",
       "      <td>200.000000</td>\n",
       "      <td>70.000000</td>\n",
       "      <td>137.000000</td>\n",
       "      <td>99.000000</td>\n",
       "    </tr>\n",
       "  </tbody>\n",
       "</table>\n",
       "</div>"
      ],
      "text/plain": [
       "       CustomerID         Age  Annual Income (k$)  Spending Score (1-100)\n",
       "count  200.000000  200.000000          200.000000              200.000000\n",
       "mean   100.500000   38.850000           60.560000               50.200000\n",
       "std     57.879185   13.969007           26.264721               25.823522\n",
       "min      1.000000   18.000000           15.000000                1.000000\n",
       "25%     50.750000   28.750000           41.500000               34.750000\n",
       "50%    100.500000   36.000000           61.500000               50.000000\n",
       "75%    150.250000   49.000000           78.000000               73.000000\n",
       "max    200.000000   70.000000          137.000000               99.000000"
      ]
     },
     "execution_count": 10,
     "metadata": {},
     "output_type": "execute_result"
    }
   ],
   "source": [
    "df.describe()"
   ]
  },
  {
   "cell_type": "markdown",
   "id": "19cfae4c",
   "metadata": {},
   "source": [
    "# Univariate Analysis."
   ]
  },
  {
   "cell_type": "code",
   "execution_count": 11,
   "id": "52d08080",
   "metadata": {},
   "outputs": [
    {
     "data": {
      "text/plain": [
       "Index(['CustomerID', 'Gender', 'Age', 'Annual Income (k$)',\n",
       "       'Spending Score (1-100)'],\n",
       "      dtype='object')"
      ]
     },
     "execution_count": 11,
     "metadata": {},
     "output_type": "execute_result"
    }
   ],
   "source": [
    "df.columns"
   ]
  },
  {
   "cell_type": "code",
   "execution_count": 12,
   "id": "fa8ede07",
   "metadata": {},
   "outputs": [],
   "source": [
    "columns = ['Age', 'Annual Income (k$)','Spending Score (1-100)']"
   ]
  },
  {
   "cell_type": "code",
   "execution_count": 13,
   "id": "42ceb566",
   "metadata": {},
   "outputs": [
    {
     "data": {
      "image/png": "[encoded data removed]",
      "text/plain": [
       "<Figure size 432x288 with 1 Axes>"
      ]
     },
     "metadata": {
      "needs_background": "light"
     },
     "output_type": "display_data"
    },
    {
     "data": {
      "image/png": "[encoded data removed]",
      "text/plain": [
       "<Figure size 432x288 with 1 Axes>"
      ]
     },
     "metadata": {
      "needs_background": "light"
     },
     "output_type": "display_data"
    },
    {
     "data": {
      "image/png": "[encoded data removed]",
      "text/plain": [
       "<Figure size 432x288 with 1 Axes>"
      ]
     },
     "metadata": {
      "needs_background": "light"
     },
     "output_type": "display_data"
    }
   ],
   "source": [
    "# Visualizing data through kernel density estimation graph\n",
    "# Looking at the distribution of values based on gender.\n",
    "for item in columns:\n",
    "    plt.figure()\n",
    "    sns.kdeplot(df[item],shade=True,hue=df['Gender'])"
   ]
  },
  {
   "cell_type": "markdown",
   "id": "f973acd5",
   "metadata": {},
   "source": [
    "We can see that there is a outlier in the annual income plot in the above graphs which we will check out through box plot."
   ]
  },
  {
   "cell_type": "code",
   "execution_count": 14,
   "id": "7ffabc3f",
   "metadata": {},
   "outputs": [
    {
     "data": {
      "image/png": "[encoded data removed]",
      "text/plain": [
       "<Figure size 432x288 with 1 Axes>"
      ]
     },
     "metadata": {
      "needs_background": "light"
     },
     "output_type": "display_data"
    },
    {
     "data": {
      "image/png": "[encoded data removed]",
      "text/plain": [
       "<Figure size 432x288 with 1 Axes>"
      ]
     },
     "metadata": {
      "needs_background": "light"
     },
     "output_type": "display_data"
    },
    {
     "data": {
      "image/png": "[encoded data removed]",
      "text/plain": [
       "<Figure size 432x288 with 1 Axes>"
      ]
     },
     "metadata": {
      "needs_background": "light"
     },
     "output_type": "display_data"
    }
   ],
   "source": [
    "# Visualizing data through dist plot\n",
    "columns = ['Age', 'Annual Income (k$)','Spending Score (1-100)']\n",
    "\n",
    "for item in columns:\n",
    "    plt.figure()\n",
    "    sns.distplot(df[item])"
   ]
  },
  {
   "cell_type": "code",
   "execution_count": 15,
   "id": "793f89dc",
   "metadata": {},
   "outputs": [
    {
     "data": {
      "image/png": "[encoded data removed]",
      "text/plain": [
       "<Figure size 432x288 with 1 Axes>"
      ]
     },
     "metadata": {
      "needs_background": "light"
     },
     "output_type": "display_data"
    },
    {
     "data": {
      "image/png": "[encoded data removed]",
      "text/plain": [
       "<Figure size 432x288 with 1 Axes>"
      ]
     },
     "metadata": {
      "needs_background": "light"
     },
     "output_type": "display_data"
    },
    {
     "data": {
      "image/png": "[encoded data removed]",
      "text/plain": [
       "<Figure size 432x288 with 1 Axes>"
      ]
     },
     "metadata": {
      "needs_background": "light"
     },
     "output_type": "display_data"
    }
   ],
   "source": [
    "columns = ['Age', 'Annual Income (k$)','Spending Score (1-100)']\n",
    "for item in columns:\n",
    "    plt.figure()\n",
    "    sns.boxplot(df['Gender'],df[item],data=df)"
   ]
  },
  {
   "cell_type": "code",
   "execution_count": 16,
   "id": "d95c50b8",
   "metadata": {},
   "outputs": [
    {
     "data": {
      "text/plain": [
       "<AxesSubplot:xlabel='Gender', ylabel='Annual Income (k$)'>"
      ]
     },
     "execution_count": 16,
     "metadata": {},
     "output_type": "execute_result"
    },
    {
     "data": {
      "image/png": "[encoded data removed]",
      "text/plain": [
       "<Figure size 432x288 with 1 Axes>"
      ]
     },
     "metadata": {
      "needs_background": "light"
     },
     "output_type": "display_data"
    }
   ],
   "source": [
    "# We can see we have an outlier on the male side of annual income.\n",
    "sns.barplot(df['Gender'],df['Annual Income (k$)'],data=df)"
   ]
  },
  {
   "cell_type": "markdown",
   "id": "f95ec216",
   "metadata": {},
   "source": [
    "# Bivariate Analysis."
   ]
  },
  {
   "cell_type": "code",
   "execution_count": 17,
   "id": "925cde76",
   "metadata": {},
   "outputs": [
    {
     "data": {
      "text/plain": [
       "<AxesSubplot:xlabel='Age', ylabel='Annual Income (k$)'>"
      ]
     },
     "execution_count": 17,
     "metadata": {},
     "output_type": "execute_result"
    },
    {
     "data": {
      "image/png": "[encoded data removed]",
      "text/plain": [
       "<Figure size 432x288 with 1 Axes>"
      ]
     },
     "metadata": {
      "needs_background": "light"
     },
     "output_type": "display_data"
    }
   ],
   "source": [
    "df.plot.scatter('Age','Annual Income (k$)')"
   ]
  },
  {
   "cell_type": "code",
   "execution_count": 18,
   "id": "4184bad0",
   "metadata": {},
   "outputs": [
    {
     "data": {
      "text/plain": [
       "CustomerID                0\n",
       "Gender                    0\n",
       "Age                       0\n",
       "Annual Income (k$)        0\n",
       "Spending Score (1-100)    0\n",
       "dtype: int64"
      ]
     },
     "execution_count": 18,
     "metadata": {},
     "output_type": "execute_result"
    }
   ],
   "source": [
    "# Checking for null values\n",
    "df.isna().sum()"
   ]
  },
  {
   "cell_type": "code",
   "execution_count": 19,
   "id": "023f030e",
   "metadata": {},
   "outputs": [
    {
     "data": {
      "text/plain": [
       "137"
      ]
     },
     "execution_count": 19,
     "metadata": {},
     "output_type": "execute_result"
    }
   ],
   "source": [
    "# Removing the outlier\n",
    "df['Annual Income (k$)'].max()"
   ]
  },
  {
   "cell_type": "code",
   "execution_count": 20,
   "id": "2cbfff08",
   "metadata": {},
   "outputs": [],
   "source": [
    "df = df[df['Annual Income (k$)']<135]"
   ]
  },
  {
   "cell_type": "code",
   "execution_count": 21,
   "id": "9768d73f",
   "metadata": {},
   "outputs": [
    {
     "data": {
      "text/plain": [
       "<AxesSubplot:xlabel='Gender', ylabel='Annual Income (k$)'>"
      ]
     },
     "execution_count": 21,
     "metadata": {},
     "output_type": "execute_result"
    },
    {
     "data": {
      "image/png": "[encoded data removed]",
      "text/plain": [
       "<Figure size 432x288 with 1 Axes>"
      ]
     },
     "metadata": {
      "needs_background": "light"
     },
     "output_type": "display_data"
    }
   ],
   "source": [
    "sns.boxplot(df['Gender'],df['Annual Income (k$)'],data=df)"
   ]
  },
  {
   "cell_type": "markdown",
   "id": "d0cb7983",
   "metadata": {},
   "source": [
    "As we can see we have successfully removed the outlier."
   ]
  },
  {
   "cell_type": "code",
   "execution_count": 22,
   "id": "66842cdf",
   "metadata": {},
   "outputs": [],
   "source": [
    "# Now plotting a pair plot,for which we will drop the customer id column.\n",
    "df = df.drop('CustomerID', axis=1)"
   ]
  },
  {
   "cell_type": "code",
   "execution_count": 23,
   "id": "73678637",
   "metadata": {},
   "outputs": [
    {
     "data": {
      "text/html": [
       "<div>\n",
       "<style scoped>\n",
       "    .dataframe tbody tr th:only-of-type {\n",
       "        vertical-align: middle;\n",
       "    }\n",
       "\n",
       "    .dataframe tbody tr th {\n",
       "        vertical-align: top;\n",
       "    }\n",
       "\n",
       "    .dataframe thead th {\n",
       "        text-align: right;\n",
       "    }\n",
       "</style>\n",
       "<table border=\"1\" class=\"dataframe\">\n",
       "  <thead>\n",
       "    <tr style=\"text-align: right;\">\n",
       "      <th></th>\n",
       "      <th>Gender</th>\n",
       "      <th>Age</th>\n",
       "      <th>Annual Income (k$)</th>\n",
       "      <th>Spending Score (1-100)</th>\n",
       "    </tr>\n",
       "  </thead>\n",
       "  <tbody>\n",
       "    <tr>\n",
       "      <th>0</th>\n",
       "      <td>Male</td>\n",
       "      <td>19</td>\n",
       "      <td>15</td>\n",
       "      <td>39</td>\n",
       "    </tr>\n",
       "    <tr>\n",
       "      <th>1</th>\n",
       "      <td>Male</td>\n",
       "      <td>21</td>\n",
       "      <td>15</td>\n",
       "      <td>81</td>\n",
       "    </tr>\n",
       "    <tr>\n",
       "      <th>2</th>\n",
       "      <td>Female</td>\n",
       "      <td>20</td>\n",
       "      <td>16</td>\n",
       "      <td>6</td>\n",
       "    </tr>\n",
       "    <tr>\n",
       "      <th>3</th>\n",
       "      <td>Female</td>\n",
       "      <td>23</td>\n",
       "      <td>16</td>\n",
       "      <td>77</td>\n",
       "    </tr>\n",
       "    <tr>\n",
       "      <th>4</th>\n",
       "      <td>Female</td>\n",
       "      <td>31</td>\n",
       "      <td>17</td>\n",
       "      <td>40</td>\n",
       "    </tr>\n",
       "  </tbody>\n",
       "</table>\n",
       "</div>"
      ],
      "text/plain": [
       "   Gender  Age  Annual Income (k$)  Spending Score (1-100)\n",
       "0    Male   19                  15                      39\n",
       "1    Male   21                  15                      81\n",
       "2  Female   20                  16                       6\n",
       "3  Female   23                  16                      77\n",
       "4  Female   31                  17                      40"
      ]
     },
     "execution_count": 23,
     "metadata": {},
     "output_type": "execute_result"
    }
   ],
   "source": [
    "df.head()"
   ]
  },
  {
   "cell_type": "code",
   "execution_count": 24,
   "id": "00396aa7",
   "metadata": {},
   "outputs": [
    {
     "data": {
      "text/plain": [
       "<seaborn.axisgrid.PairGrid at 0x1bb4bf579d0>"
      ]
     },
     "execution_count": 24,
     "metadata": {},
     "output_type": "execute_result"
    },
    {
     "data": {
      "image/png": "[encoded data removed]",
      "text/plain": [
       "<Figure size 612.125x540 with 12 Axes>"
      ]
     },
     "metadata": {
      "needs_background": "light"
     },
     "output_type": "display_data"
    }
   ],
   "source": [
    "sns.pairplot(df,hue='Gender')"
   ]
  },
  {
   "cell_type": "code",
   "execution_count": 25,
   "id": "87396c5f",
   "metadata": {},
   "outputs": [
    {
     "data": {
      "text/html": [
       "<div>\n",
       "<style scoped>\n",
       "    .dataframe tbody tr th:only-of-type {\n",
       "        vertical-align: middle;\n",
       "    }\n",
       "\n",
       "    .dataframe tbody tr th {\n",
       "        vertical-align: top;\n",
       "    }\n",
       "\n",
       "    .dataframe thead th {\n",
       "        text-align: right;\n",
       "    }\n",
       "</style>\n",
       "<table border=\"1\" class=\"dataframe\">\n",
       "  <thead>\n",
       "    <tr style=\"text-align: right;\">\n",
       "      <th></th>\n",
       "      <th>Age</th>\n",
       "      <th>Annual Income (k$)</th>\n",
       "      <th>Spending Score (1-100)</th>\n",
       "    </tr>\n",
       "    <tr>\n",
       "      <th>Gender</th>\n",
       "      <th></th>\n",
       "      <th></th>\n",
       "      <th></th>\n",
       "    </tr>\n",
       "  </thead>\n",
       "  <tbody>\n",
       "    <tr>\n",
       "      <th>Female</th>\n",
       "      <td>38.098214</td>\n",
       "      <td>59.250000</td>\n",
       "      <td>51.526786</td>\n",
       "    </tr>\n",
       "    <tr>\n",
       "      <th>Male</th>\n",
       "      <td>40.011628</td>\n",
       "      <td>60.488372</td>\n",
       "      <td>48.465116</td>\n",
       "    </tr>\n",
       "  </tbody>\n",
       "</table>\n",
       "</div>"
      ],
      "text/plain": [
       "              Age  Annual Income (k$)  Spending Score (1-100)\n",
       "Gender                                                       \n",
       "Female  38.098214           59.250000               51.526786\n",
       "Male    40.011628           60.488372               48.465116"
      ]
     },
     "execution_count": 25,
     "metadata": {},
     "output_type": "execute_result"
    }
   ],
   "source": [
    "# Looking at 'Age', 'Annual Income (k$)','Spending Score (1-100)' value by age.\n",
    "df.groupby('Gender')['Age', 'Annual Income (k$)','Spending Score (1-100)'].mean()"
   ]
  },
  {
   "cell_type": "code",
   "execution_count": 26,
   "id": "084dccad",
   "metadata": {},
   "outputs": [
    {
     "data": {
      "text/plain": [
       "<AxesSubplot:>"
      ]
     },
     "execution_count": 26,
     "metadata": {},
     "output_type": "execute_result"
    },
    {
     "data": {
      "image/png": "[encoded data removed]",
      "text/plain": [
       "<Figure size 432x288 with 2 Axes>"
      ]
     },
     "metadata": {
      "needs_background": "light"
     },
     "output_type": "display_data"
    }
   ],
   "source": [
    "# Heat map for correlation\n",
    "corrmat = df.corr()\n",
    "top_corr_features = corrmat.index\n",
    "sns.heatmap(df[top_corr_features].corr(),annot=True,cmap='coolwarm')"
   ]
  },
  {
   "cell_type": "markdown",
   "id": "81546f77",
   "metadata": {},
   "source": [
    "# Clustering - Univariate[One]."
   ]
  },
  {
   "cell_type": "code",
   "execution_count": 27,
   "id": "05a2159a",
   "metadata": {},
   "outputs": [],
   "source": [
    "from sklearn.cluster import KMeans"
   ]
  },
  {
   "cell_type": "code",
   "execution_count": 28,
   "id": "a3c5f7a5",
   "metadata": {},
   "outputs": [],
   "source": [
    "cluster1 = KMeans(n_clusters=3)"
   ]
  },
  {
   "cell_type": "code",
   "execution_count": 29,
   "id": "8438df05",
   "metadata": {},
   "outputs": [
    {
     "data": {
      "text/plain": [
       "array([[8.27058824e+01, 1.84864865e+01, 5.20888889e+01],\n",
       "       [8.27058824e+01, 1.84864865e+01, 5.20888889e+01],\n",
       "       [8.17058824e+01, 1.74864865e+01, 5.10888889e+01],\n",
       "       [8.17058824e+01, 1.74864865e+01, 5.10888889e+01],\n",
       "       [8.07058824e+01, 1.64864865e+01, 5.00888889e+01],\n",
       "       [8.07058824e+01, 1.64864865e+01, 5.00888889e+01],\n",
       "       [7.97058824e+01, 1.54864865e+01, 4.90888889e+01],\n",
       "       [7.97058824e+01, 1.54864865e+01, 4.90888889e+01],\n",
       "       [7.87058824e+01, 1.44864865e+01, 4.80888889e+01],\n",
       "       [7.87058824e+01, 1.44864865e+01, 4.80888889e+01],\n",
       "       [7.87058824e+01, 1.44864865e+01, 4.80888889e+01],\n",
       "       [7.87058824e+01, 1.44864865e+01, 4.80888889e+01],\n",
       "       [7.77058824e+01, 1.34864865e+01, 4.70888889e+01],\n",
       "       [7.77058824e+01, 1.34864865e+01, 4.70888889e+01],\n",
       "       [7.77058824e+01, 1.34864865e+01, 4.70888889e+01],\n",
       "       [7.77058824e+01, 1.34864865e+01, 4.70888889e+01],\n",
       "       [7.67058824e+01, 1.24864865e+01, 4.60888889e+01],\n",
       "       [7.67058824e+01, 1.24864865e+01, 4.60888889e+01],\n",
       "       [7.47058824e+01, 1.04864865e+01, 4.40888889e+01],\n",
       "       [7.47058824e+01, 1.04864865e+01, 4.40888889e+01],\n",
       "       [7.37058824e+01, 9.48648649e+00, 4.30888889e+01],\n",
       "       [7.37058824e+01, 9.48648649e+00, 4.30888889e+01],\n",
       "       [7.27058824e+01, 8.48648649e+00, 4.20888889e+01],\n",
       "       [7.27058824e+01, 8.48648649e+00, 4.20888889e+01],\n",
       "       [6.97058824e+01, 5.48648649e+00, 3.90888889e+01],\n",
       "       [6.97058824e+01, 5.48648649e+00, 3.90888889e+01],\n",
       "       [6.97058824e+01, 5.48648649e+00, 3.90888889e+01],\n",
       "       [6.97058824e+01, 5.48648649e+00, 3.90888889e+01],\n",
       "       [6.87058824e+01, 4.48648649e+00, 3.80888889e+01],\n",
       "       [6.87058824e+01, 4.48648649e+00, 3.80888889e+01],\n",
       "       [6.77058824e+01, 3.48648649e+00, 3.70888889e+01],\n",
       "       [6.77058824e+01, 3.48648649e+00, 3.70888889e+01],\n",
       "       [6.47058824e+01, 4.86486486e-01, 3.40888889e+01],\n",
       "       [6.47058824e+01, 4.86486486e-01, 3.40888889e+01],\n",
       "       [6.47058824e+01, 4.86486486e-01, 3.40888889e+01],\n",
       "       [6.47058824e+01, 4.86486486e-01, 3.40888889e+01],\n",
       "       [6.37058824e+01, 5.13513514e-01, 3.30888889e+01],\n",
       "       [6.37058824e+01, 5.13513514e-01, 3.30888889e+01],\n",
       "       [6.07058824e+01, 3.51351351e+00, 3.00888889e+01],\n",
       "       [6.07058824e+01, 3.51351351e+00, 3.00888889e+01],\n",
       "       [5.97058824e+01, 4.51351351e+00, 2.90888889e+01],\n",
       "       [5.97058824e+01, 4.51351351e+00, 2.90888889e+01],\n",
       "       [5.87058824e+01, 5.51351351e+00, 2.80888889e+01],\n",
       "       [5.87058824e+01, 5.51351351e+00, 2.80888889e+01],\n",
       "       [5.87058824e+01, 5.51351351e+00, 2.80888889e+01],\n",
       "       [5.87058824e+01, 5.51351351e+00, 2.80888889e+01],\n",
       "       [5.77058824e+01, 6.51351351e+00, 2.70888889e+01],\n",
       "       [5.77058824e+01, 6.51351351e+00, 2.70888889e+01],\n",
       "       [5.77058824e+01, 6.51351351e+00, 2.70888889e+01],\n",
       "       [5.77058824e+01, 6.51351351e+00, 2.70888889e+01],\n",
       "       [5.57058824e+01, 8.51351351e+00, 2.50888889e+01],\n",
       "       [5.57058824e+01, 8.51351351e+00, 2.50888889e+01],\n",
       "       [5.47058824e+01, 9.51351351e+00, 2.40888889e+01],\n",
       "       [5.47058824e+01, 9.51351351e+00, 2.40888889e+01],\n",
       "       [5.47058824e+01, 9.51351351e+00, 2.40888889e+01],\n",
       "       [5.47058824e+01, 9.51351351e+00, 2.40888889e+01],\n",
       "       [5.37058824e+01, 1.05135135e+01, 2.30888889e+01],\n",
       "       [5.37058824e+01, 1.05135135e+01, 2.30888889e+01],\n",
       "       [5.17058824e+01, 1.25135135e+01, 2.10888889e+01],\n",
       "       [5.17058824e+01, 1.25135135e+01, 2.10888889e+01],\n",
       "       [5.17058824e+01, 1.25135135e+01, 2.10888889e+01],\n",
       "       [5.17058824e+01, 1.25135135e+01, 2.10888889e+01],\n",
       "       [5.07058824e+01, 1.35135135e+01, 2.00888889e+01],\n",
       "       [5.07058824e+01, 1.35135135e+01, 2.00888889e+01],\n",
       "       [4.97058824e+01, 1.45135135e+01, 1.90888889e+01],\n",
       "       [4.97058824e+01, 1.45135135e+01, 1.90888889e+01],\n",
       "       [4.97058824e+01, 1.45135135e+01, 1.90888889e+01],\n",
       "       [4.97058824e+01, 1.45135135e+01, 1.90888889e+01],\n",
       "       [4.97058824e+01, 1.45135135e+01, 1.90888889e+01],\n",
       "       [4.97058824e+01, 1.45135135e+01, 1.90888889e+01],\n",
       "       [4.87058824e+01, 1.55135135e+01, 1.80888889e+01],\n",
       "       [4.87058824e+01, 1.55135135e+01, 1.80888889e+01],\n",
       "       [4.77058824e+01, 1.65135135e+01, 1.70888889e+01],\n",
       "       [4.77058824e+01, 1.65135135e+01, 1.70888889e+01],\n",
       "       [4.37058824e+01, 2.05135135e+01, 1.30888889e+01],\n",
       "       [4.37058824e+01, 2.05135135e+01, 1.30888889e+01],\n",
       "       [4.37058824e+01, 2.05135135e+01, 1.30888889e+01],\n",
       "       [4.37058824e+01, 2.05135135e+01, 1.30888889e+01],\n",
       "       [4.37058824e+01, 2.05135135e+01, 1.30888889e+01],\n",
       "       [4.37058824e+01, 2.05135135e+01, 1.30888889e+01],\n",
       "       [4.37058824e+01, 2.05135135e+01, 1.30888889e+01],\n",
       "       [4.37058824e+01, 2.05135135e+01, 1.30888889e+01],\n",
       "       [4.37058824e+01, 2.05135135e+01, 1.30888889e+01],\n",
       "       [4.37058824e+01, 2.05135135e+01, 1.30888889e+01],\n",
       "       [4.37058824e+01, 2.05135135e+01, 1.30888889e+01],\n",
       "       [4.37058824e+01, 2.05135135e+01, 1.30888889e+01],\n",
       "       [4.07058824e+01, 2.35135135e+01, 1.00888889e+01],\n",
       "       [4.07058824e+01, 2.35135135e+01, 1.00888889e+01],\n",
       "       [3.97058824e+01, 2.45135135e+01, 9.08888889e+00],\n",
       "       [3.97058824e+01, 2.45135135e+01, 9.08888889e+00],\n",
       "       [3.87058824e+01, 2.55135135e+01, 8.08888889e+00],\n",
       "       [3.87058824e+01, 2.55135135e+01, 8.08888889e+00],\n",
       "       [3.77058824e+01, 2.65135135e+01, 7.08888889e+00],\n",
       "       [3.77058824e+01, 2.65135135e+01, 7.08888889e+00],\n",
       "       [3.77058824e+01, 2.65135135e+01, 7.08888889e+00],\n",
       "       [3.77058824e+01, 2.65135135e+01, 7.08888889e+00],\n",
       "       [3.77058824e+01, 2.65135135e+01, 7.08888889e+00],\n",
       "       [3.77058824e+01, 2.65135135e+01, 7.08888889e+00],\n",
       "       [3.67058824e+01, 2.75135135e+01, 6.08888889e+00],\n",
       "       [3.67058824e+01, 2.75135135e+01, 6.08888889e+00],\n",
       "       [3.57058824e+01, 2.85135135e+01, 5.08888889e+00],\n",
       "       [3.57058824e+01, 2.85135135e+01, 5.08888889e+00],\n",
       "       [3.57058824e+01, 2.85135135e+01, 5.08888889e+00],\n",
       "       [3.57058824e+01, 2.85135135e+01, 5.08888889e+00],\n",
       "       [3.57058824e+01, 2.85135135e+01, 5.08888889e+00],\n",
       "       [3.57058824e+01, 2.85135135e+01, 5.08888889e+00],\n",
       "       [3.47058824e+01, 2.95135135e+01, 4.08888889e+00],\n",
       "       [3.47058824e+01, 2.95135135e+01, 4.08888889e+00],\n",
       "       [3.47058824e+01, 2.95135135e+01, 4.08888889e+00],\n",
       "       [3.47058824e+01, 2.95135135e+01, 4.08888889e+00],\n",
       "       [3.47058824e+01, 2.95135135e+01, 4.08888889e+00],\n",
       "       [3.47058824e+01, 2.95135135e+01, 4.08888889e+00],\n",
       "       [3.37058824e+01, 3.05135135e+01, 3.08888889e+00],\n",
       "       [3.37058824e+01, 3.05135135e+01, 3.08888889e+00],\n",
       "       [3.27058824e+01, 3.15135135e+01, 2.08888889e+00],\n",
       "       [3.27058824e+01, 3.15135135e+01, 2.08888889e+00],\n",
       "       [3.27058824e+01, 3.15135135e+01, 2.08888889e+00],\n",
       "       [3.27058824e+01, 3.15135135e+01, 2.08888889e+00],\n",
       "       [3.07058824e+01, 3.35135135e+01, 8.88888889e-02],\n",
       "       [3.07058824e+01, 3.35135135e+01, 8.88888889e-02],\n",
       "       [3.07058824e+01, 3.35135135e+01, 8.88888889e-02],\n",
       "       [3.07058824e+01, 3.35135135e+01, 8.88888889e-02],\n",
       "       [2.87058824e+01, 3.55135135e+01, 1.91111111e+00],\n",
       "       [2.87058824e+01, 3.55135135e+01, 1.91111111e+00],\n",
       "       [2.77058824e+01, 3.65135135e+01, 2.91111111e+00],\n",
       "       [2.77058824e+01, 3.65135135e+01, 2.91111111e+00],\n",
       "       [2.67058824e+01, 3.75135135e+01, 3.91111111e+00],\n",
       "       [2.67058824e+01, 3.75135135e+01, 3.91111111e+00],\n",
       "       [2.67058824e+01, 3.75135135e+01, 3.91111111e+00],\n",
       "       [2.67058824e+01, 3.75135135e+01, 3.91111111e+00],\n",
       "       [2.67058824e+01, 3.75135135e+01, 3.91111111e+00],\n",
       "       [2.67058824e+01, 3.75135135e+01, 3.91111111e+00],\n",
       "       [2.57058824e+01, 3.85135135e+01, 4.91111111e+00],\n",
       "       [2.57058824e+01, 3.85135135e+01, 4.91111111e+00],\n",
       "       [2.47058824e+01, 3.95135135e+01, 5.91111111e+00],\n",
       "       [2.47058824e+01, 3.95135135e+01, 5.91111111e+00],\n",
       "       [2.47058824e+01, 3.95135135e+01, 5.91111111e+00],\n",
       "       [2.47058824e+01, 3.95135135e+01, 5.91111111e+00],\n",
       "       [2.37058824e+01, 4.05135135e+01, 6.91111111e+00],\n",
       "       [2.37058824e+01, 4.05135135e+01, 6.91111111e+00],\n",
       "       [2.27058824e+01, 4.15135135e+01, 7.91111111e+00],\n",
       "       [2.27058824e+01, 4.15135135e+01, 7.91111111e+00],\n",
       "       [2.17058824e+01, 4.25135135e+01, 8.91111111e+00],\n",
       "       [2.17058824e+01, 4.25135135e+01, 8.91111111e+00],\n",
       "       [2.07058824e+01, 4.35135135e+01, 9.91111111e+00],\n",
       "       [2.07058824e+01, 4.35135135e+01, 9.91111111e+00],\n",
       "       [2.07058824e+01, 4.35135135e+01, 9.91111111e+00],\n",
       "       [2.07058824e+01, 4.35135135e+01, 9.91111111e+00],\n",
       "       [1.97058824e+01, 4.45135135e+01, 1.09111111e+01],\n",
       "       [1.97058824e+01, 4.45135135e+01, 1.09111111e+01],\n",
       "       [1.97058824e+01, 4.45135135e+01, 1.09111111e+01],\n",
       "       [1.97058824e+01, 4.45135135e+01, 1.09111111e+01],\n",
       "       [1.97058824e+01, 4.45135135e+01, 1.09111111e+01],\n",
       "       [1.97058824e+01, 4.45135135e+01, 1.09111111e+01],\n",
       "       [1.97058824e+01, 4.45135135e+01, 1.09111111e+01],\n",
       "       [1.97058824e+01, 4.45135135e+01, 1.09111111e+01],\n",
       "       [1.97058824e+01, 4.45135135e+01, 1.09111111e+01],\n",
       "       [1.97058824e+01, 4.45135135e+01, 1.09111111e+01],\n",
       "       [1.97058824e+01, 4.45135135e+01, 1.09111111e+01],\n",
       "       [1.97058824e+01, 4.45135135e+01, 1.09111111e+01],\n",
       "       [1.87058824e+01, 4.55135135e+01, 1.19111111e+01],\n",
       "       [1.87058824e+01, 4.55135135e+01, 1.19111111e+01],\n",
       "       [1.67058824e+01, 4.75135135e+01, 1.39111111e+01],\n",
       "       [1.67058824e+01, 4.75135135e+01, 1.39111111e+01],\n",
       "       [1.27058824e+01, 5.15135135e+01, 1.79111111e+01],\n",
       "       [1.27058824e+01, 5.15135135e+01, 1.79111111e+01],\n",
       "       [1.17058824e+01, 5.25135135e+01, 1.89111111e+01],\n",
       "       [1.17058824e+01, 5.25135135e+01, 1.89111111e+01],\n",
       "       [1.07058824e+01, 5.35135135e+01, 1.99111111e+01],\n",
       "       [1.07058824e+01, 5.35135135e+01, 1.99111111e+01],\n",
       "       [1.07058824e+01, 5.35135135e+01, 1.99111111e+01],\n",
       "       [1.07058824e+01, 5.35135135e+01, 1.99111111e+01],\n",
       "       [1.07058824e+01, 5.35135135e+01, 1.99111111e+01],\n",
       "       [1.07058824e+01, 5.35135135e+01, 1.99111111e+01],\n",
       "       [9.70588235e+00, 5.45135135e+01, 2.09111111e+01],\n",
       "       [9.70588235e+00, 5.45135135e+01, 2.09111111e+01],\n",
       "       [9.70588235e+00, 5.45135135e+01, 2.09111111e+01],\n",
       "       [9.70588235e+00, 5.45135135e+01, 2.09111111e+01],\n",
       "       [4.70588235e+00, 5.95135135e+01, 2.59111111e+01],\n",
       "       [4.70588235e+00, 5.95135135e+01, 2.59111111e+01],\n",
       "       [7.05882353e-01, 6.35135135e+01, 2.99111111e+01],\n",
       "       [7.05882353e-01, 6.35135135e+01, 2.99111111e+01],\n",
       "       [2.94117647e-01, 6.45135135e+01, 3.09111111e+01],\n",
       "       [2.94117647e-01, 6.45135135e+01, 3.09111111e+01],\n",
       "       [1.29411765e+00, 6.55135135e+01, 3.19111111e+01],\n",
       "       [1.29411765e+00, 6.55135135e+01, 3.19111111e+01],\n",
       "       [3.29411765e+00, 6.75135135e+01, 3.39111111e+01],\n",
       "       [3.29411765e+00, 6.75135135e+01, 3.39111111e+01],\n",
       "       [5.29411765e+00, 6.95135135e+01, 3.59111111e+01],\n",
       "       [5.29411765e+00, 6.95135135e+01, 3.59111111e+01],\n",
       "       [5.29411765e+00, 6.95135135e+01, 3.59111111e+01],\n",
       "       [5.29411765e+00, 6.95135135e+01, 3.59111111e+01],\n",
       "       [1.52941176e+01, 7.95135135e+01, 4.59111111e+01],\n",
       "       [1.52941176e+01, 7.95135135e+01, 4.59111111e+01],\n",
       "       [2.22941176e+01, 8.65135135e+01, 5.29111111e+01],\n",
       "       [2.22941176e+01, 8.65135135e+01, 5.29111111e+01],\n",
       "       [2.82941176e+01, 9.25135135e+01, 5.89111111e+01],\n",
       "       [2.82941176e+01, 9.25135135e+01, 5.89111111e+01]])"
      ]
     },
     "execution_count": 29,
     "metadata": {},
     "output_type": "execute_result"
    }
   ],
   "source": [
    "# Remenber to use [[]] since it takes dataframes not series []=series,[[]]=dataframe\n",
    "cluster1.fit_transform(df[['Annual Income (k$)']])"
   ]
  },
  {
   "cell_type": "code",
   "execution_count": 30,
   "id": "7120a2fc",
   "metadata": {},
   "outputs": [
    {
     "data": {
      "text/plain": [
       "array([1, 1, 1, 1, 1, 1, 1, 1, 1, 1, 1, 1, 1, 1, 1, 1, 1, 1, 1, 1, 1, 1,\n",
       "       1, 1, 1, 1, 1, 1, 1, 1, 1, 1, 1, 1, 1, 1, 1, 1, 1, 1, 1, 1, 1, 1,\n",
       "       1, 1, 1, 1, 1, 1, 1, 1, 1, 1, 1, 1, 1, 1, 1, 1, 1, 1, 1, 1, 1, 1,\n",
       "       1, 1, 1, 1, 1, 1, 1, 1, 2, 2, 2, 2, 2, 2, 2, 2, 2, 2, 2, 2, 2, 2,\n",
       "       2, 2, 2, 2, 2, 2, 2, 2, 2, 2, 2, 2, 2, 2, 2, 2, 2, 2, 2, 2, 2, 2,\n",
       "       2, 2, 2, 2, 2, 2, 2, 2, 2, 2, 2, 2, 2, 2, 2, 2, 2, 2, 2, 2, 2, 2,\n",
       "       2, 2, 2, 2, 2, 2, 2, 2, 2, 2, 2, 2, 2, 2, 2, 2, 2, 2, 2, 2, 2, 2,\n",
       "       2, 2, 2, 2, 2, 2, 2, 2, 2, 2, 0, 0, 0, 0, 0, 0, 0, 0, 0, 0, 0, 0,\n",
       "       0, 0, 0, 0, 0, 0, 0, 0, 0, 0, 0, 0, 0, 0, 0, 0, 0, 0, 0, 0, 0, 0])"
      ]
     },
     "execution_count": 30,
     "metadata": {},
     "output_type": "execute_result"
    }
   ],
   "source": [
    "cluster1.labels_"
   ]
  },
  {
   "cell_type": "code",
   "execution_count": 31,
   "id": "1f969725",
   "metadata": {},
   "outputs": [],
   "source": [
    "# Adding the clusters to the dataframe\n",
    "df['Annual Income Cluster'] = cluster1.labels_"
   ]
  },
  {
   "cell_type": "code",
   "execution_count": 32,
   "id": "66924b87",
   "metadata": {},
   "outputs": [
    {
     "data": {
      "text/html": [
       "<div>\n",
       "<style scoped>\n",
       "    .dataframe tbody tr th:only-of-type {\n",
       "        vertical-align: middle;\n",
       "    }\n",
       "\n",
       "    .dataframe tbody tr th {\n",
       "        vertical-align: top;\n",
       "    }\n",
       "\n",
       "    .dataframe thead th {\n",
       "        text-align: right;\n",
       "    }\n",
       "</style>\n",
       "<table border=\"1\" class=\"dataframe\">\n",
       "  <thead>\n",
       "    <tr style=\"text-align: right;\">\n",
       "      <th></th>\n",
       "      <th>Gender</th>\n",
       "      <th>Age</th>\n",
       "      <th>Annual Income (k$)</th>\n",
       "      <th>Spending Score (1-100)</th>\n",
       "      <th>Annual Income Cluster</th>\n",
       "    </tr>\n",
       "  </thead>\n",
       "  <tbody>\n",
       "    <tr>\n",
       "      <th>0</th>\n",
       "      <td>Male</td>\n",
       "      <td>19</td>\n",
       "      <td>15</td>\n",
       "      <td>39</td>\n",
       "      <td>1</td>\n",
       "    </tr>\n",
       "    <tr>\n",
       "      <th>1</th>\n",
       "      <td>Male</td>\n",
       "      <td>21</td>\n",
       "      <td>15</td>\n",
       "      <td>81</td>\n",
       "      <td>1</td>\n",
       "    </tr>\n",
       "    <tr>\n",
       "      <th>2</th>\n",
       "      <td>Female</td>\n",
       "      <td>20</td>\n",
       "      <td>16</td>\n",
       "      <td>6</td>\n",
       "      <td>1</td>\n",
       "    </tr>\n",
       "    <tr>\n",
       "      <th>3</th>\n",
       "      <td>Female</td>\n",
       "      <td>23</td>\n",
       "      <td>16</td>\n",
       "      <td>77</td>\n",
       "      <td>1</td>\n",
       "    </tr>\n",
       "    <tr>\n",
       "      <th>4</th>\n",
       "      <td>Female</td>\n",
       "      <td>31</td>\n",
       "      <td>17</td>\n",
       "      <td>40</td>\n",
       "      <td>1</td>\n",
       "    </tr>\n",
       "  </tbody>\n",
       "</table>\n",
       "</div>"
      ],
      "text/plain": [
       "   Gender  Age  Annual Income (k$)  Spending Score (1-100)  \\\n",
       "0    Male   19                  15                      39   \n",
       "1    Male   21                  15                      81   \n",
       "2  Female   20                  16                       6   \n",
       "3  Female   23                  16                      77   \n",
       "4  Female   31                  17                      40   \n",
       "\n",
       "   Annual Income Cluster  \n",
       "0                      1  \n",
       "1                      1  \n",
       "2                      1  \n",
       "3                      1  \n",
       "4                      1  "
      ]
     },
     "execution_count": 32,
     "metadata": {},
     "output_type": "execute_result"
    }
   ],
   "source": [
    "df.head()"
   ]
  },
  {
   "cell_type": "code",
   "execution_count": 33,
   "id": "f3799883",
   "metadata": {},
   "outputs": [
    {
     "data": {
      "text/plain": [
       "2    90\n",
       "1    74\n",
       "0    34\n",
       "Name: Annual Income Cluster, dtype: int64"
      ]
     },
     "execution_count": 33,
     "metadata": {},
     "output_type": "execute_result"
    }
   ],
   "source": [
    "df['Annual Income Cluster'].value_counts()"
   ]
  },
  {
   "cell_type": "code",
   "execution_count": 34,
   "id": "4d1994bb",
   "metadata": {},
   "outputs": [
    {
     "data": {
      "text/plain": [
       "20600.834198904784"
      ]
     },
     "execution_count": 34,
     "metadata": {},
     "output_type": "execute_result"
    }
   ],
   "source": [
    "# Inertia represents the distance b/w the centriods and the data points\n",
    "cluster1.inertia_"
   ]
  },
  {
   "cell_type": "code",
   "execution_count": 35,
   "id": "7a7edb9a",
   "metadata": {},
   "outputs": [
    {
     "data": {
      "text/plain": [
       "<AxesSubplot:xlabel='Annual Income Cluster', ylabel='count'>"
      ]
     },
     "execution_count": 35,
     "metadata": {},
     "output_type": "execute_result"
    },
    {
     "data": {
      "image/png": "[encoded data removed]",
      "text/plain": [
       "<Figure size 432x288 with 1 Axes>"
      ]
     },
     "metadata": {
      "needs_background": "light"
     },
     "output_type": "display_data"
    }
   ],
   "source": [
    "sns.countplot(df['Annual Income Cluster'],order=df['Annual Income Cluster'].value_counts().index)"
   ]
  },
  {
   "cell_type": "markdown",
   "id": "8d187c08",
   "metadata": {},
   "source": [
    "Now we need to find the ideal cluster for this dataset.\n",
    "We will be using elbow method to find out the optimal number of clusters"
   ]
  },
  {
   "cell_type": "code",
   "execution_count": 36,
   "id": "eab7f838",
   "metadata": {},
   "outputs": [],
   "source": [
    "inertia = []\n",
    "\n",
    "for i in range(1,15):\n",
    "    kmeans = KMeans(n_clusters=i)\n",
    "    kmeans.fit(df[['Annual Income (k$)']])\n",
    "    inertia.append(kmeans.inertia_)"
   ]
  },
  {
   "cell_type": "code",
   "execution_count": 37,
   "id": "7e10cab7",
   "metadata": {},
   "outputs": [
    {
     "data": {
      "text/plain": [
       "[125473.0909090909,\n",
       " 41900.14545454545,\n",
       " 20600.834198904784,\n",
       " 11481.035294117648,\n",
       " 6748.731640211639,\n",
       " 4600.238095238095,\n",
       " 3521.654761904762,\n",
       " 2412.1663614163617,\n",
       " 1758.1453823953825,\n",
       " 1326.2323176823174,\n",
       " 1022.7536019536024,\n",
       " 885.8091575091577,\n",
       " 757.8658008658008,\n",
       " 630.3412698412699]"
      ]
     },
     "execution_count": 37,
     "metadata": {},
     "output_type": "execute_result"
    }
   ],
   "source": [
    "inertia"
   ]
  },
  {
   "cell_type": "code",
   "execution_count": 38,
   "id": "9786f309",
   "metadata": {},
   "outputs": [
    {
     "data": {
      "text/plain": [
       "[<matplotlib.lines.Line2D at 0x1bb4cbe19a0>]"
      ]
     },
     "execution_count": 38,
     "metadata": {},
     "output_type": "execute_result"
    },
    {
     "data": {
      "image/png": "[encoded data removed]",
      "text/plain": [
       "<Figure size 432x288 with 1 Axes>"
      ]
     },
     "metadata": {
      "needs_background": "light"
     },
     "output_type": "display_data"
    }
   ],
   "source": [
    "plt.plot(range(1,15),inertia,marker='d')"
   ]
  },
  {
   "cell_type": "markdown",
   "id": "86f2a888",
   "metadata": {},
   "source": [
    "We can see our optimal cluster might range b/w 3 and 5."
   ]
  },
  {
   "cell_type": "code",
   "execution_count": 39,
   "id": "b079fc2c",
   "metadata": {},
   "outputs": [
    {
     "data": {
      "text/html": [
       "<div>\n",
       "<style scoped>\n",
       "    .dataframe tbody tr th:only-of-type {\n",
       "        vertical-align: middle;\n",
       "    }\n",
       "\n",
       "    .dataframe tbody tr th {\n",
       "        vertical-align: top;\n",
       "    }\n",
       "\n",
       "    .dataframe thead th {\n",
       "        text-align: right;\n",
       "    }\n",
       "</style>\n",
       "<table border=\"1\" class=\"dataframe\">\n",
       "  <thead>\n",
       "    <tr style=\"text-align: right;\">\n",
       "      <th></th>\n",
       "      <th>Age</th>\n",
       "      <th>Annual Income (k$)</th>\n",
       "      <th>Spending Score (1-100)</th>\n",
       "    </tr>\n",
       "    <tr>\n",
       "      <th>Annual Income Cluster</th>\n",
       "      <th></th>\n",
       "      <th></th>\n",
       "      <th></th>\n",
       "    </tr>\n",
       "  </thead>\n",
       "  <tbody>\n",
       "    <tr>\n",
       "      <th>0</th>\n",
       "      <td>38.235294</td>\n",
       "      <td>97.705882</td>\n",
       "      <td>50.647059</td>\n",
       "    </tr>\n",
       "    <tr>\n",
       "      <th>1</th>\n",
       "      <td>39.500000</td>\n",
       "      <td>33.486486</td>\n",
       "      <td>50.229730</td>\n",
       "    </tr>\n",
       "    <tr>\n",
       "      <th>2</th>\n",
       "      <td>38.722222</td>\n",
       "      <td>67.088889</td>\n",
       "      <td>50.000000</td>\n",
       "    </tr>\n",
       "  </tbody>\n",
       "</table>\n",
       "</div>"
      ],
      "text/plain": [
       "                             Age  Annual Income (k$)  Spending Score (1-100)\n",
       "Annual Income Cluster                                                       \n",
       "0                      38.235294           97.705882               50.647059\n",
       "1                      39.500000           33.486486               50.229730\n",
       "2                      38.722222           67.088889               50.000000"
      ]
     },
     "execution_count": 39,
     "metadata": {},
     "output_type": "execute_result"
    }
   ],
   "source": [
    "df.groupby('Annual Income Cluster')['Age', 'Annual Income (k$)', 'Spending Score (1-100)'].mean()"
   ]
  },
  {
   "cell_type": "code",
   "execution_count": 40,
   "id": "d123ccad",
   "metadata": {},
   "outputs": [
    {
     "data": {
      "text/plain": [
       "Index(['Gender', 'Age', 'Annual Income (k$)', 'Spending Score (1-100)',\n",
       "       'Annual Income Cluster'],\n",
       "      dtype='object')"
      ]
     },
     "execution_count": 40,
     "metadata": {},
     "output_type": "execute_result"
    }
   ],
   "source": [
    "df.columns"
   ]
  },
  {
   "cell_type": "markdown",
   "id": "7e2e8b5f",
   "metadata": {},
   "source": [
    "# Bivariate Clustering[Annual income and Spending Score]."
   ]
  },
  {
   "cell_type": "code",
   "execution_count": 41,
   "id": "abcee0c0",
   "metadata": {},
   "outputs": [
    {
     "data": {
      "text/html": [
       "<div>\n",
       "<style scoped>\n",
       "    .dataframe tbody tr th:only-of-type {\n",
       "        vertical-align: middle;\n",
       "    }\n",
       "\n",
       "    .dataframe tbody tr th {\n",
       "        vertical-align: top;\n",
       "    }\n",
       "\n",
       "    .dataframe thead th {\n",
       "        text-align: right;\n",
       "    }\n",
       "</style>\n",
       "<table border=\"1\" class=\"dataframe\">\n",
       "  <thead>\n",
       "    <tr style=\"text-align: right;\">\n",
       "      <th></th>\n",
       "      <th>Gender</th>\n",
       "      <th>Age</th>\n",
       "      <th>Annual Income (k$)</th>\n",
       "      <th>Spending Score (1-100)</th>\n",
       "      <th>Annual Income Cluster</th>\n",
       "      <th>Annual Income vs Spending</th>\n",
       "    </tr>\n",
       "  </thead>\n",
       "  <tbody>\n",
       "    <tr>\n",
       "      <th>0</th>\n",
       "      <td>Male</td>\n",
       "      <td>19</td>\n",
       "      <td>15</td>\n",
       "      <td>39</td>\n",
       "      <td>1</td>\n",
       "      <td>3</td>\n",
       "    </tr>\n",
       "    <tr>\n",
       "      <th>1</th>\n",
       "      <td>Male</td>\n",
       "      <td>21</td>\n",
       "      <td>15</td>\n",
       "      <td>81</td>\n",
       "      <td>1</td>\n",
       "      <td>0</td>\n",
       "    </tr>\n",
       "    <tr>\n",
       "      <th>2</th>\n",
       "      <td>Female</td>\n",
       "      <td>20</td>\n",
       "      <td>16</td>\n",
       "      <td>6</td>\n",
       "      <td>1</td>\n",
       "      <td>3</td>\n",
       "    </tr>\n",
       "    <tr>\n",
       "      <th>3</th>\n",
       "      <td>Female</td>\n",
       "      <td>23</td>\n",
       "      <td>16</td>\n",
       "      <td>77</td>\n",
       "      <td>1</td>\n",
       "      <td>0</td>\n",
       "    </tr>\n",
       "    <tr>\n",
       "      <th>4</th>\n",
       "      <td>Female</td>\n",
       "      <td>31</td>\n",
       "      <td>17</td>\n",
       "      <td>40</td>\n",
       "      <td>1</td>\n",
       "      <td>3</td>\n",
       "    </tr>\n",
       "  </tbody>\n",
       "</table>\n",
       "</div>"
      ],
      "text/plain": [
       "   Gender  Age  Annual Income (k$)  Spending Score (1-100)  \\\n",
       "0    Male   19                  15                      39   \n",
       "1    Male   21                  15                      81   \n",
       "2  Female   20                  16                       6   \n",
       "3  Female   23                  16                      77   \n",
       "4  Female   31                  17                      40   \n",
       "\n",
       "   Annual Income Cluster  Annual Income vs Spending  \n",
       "0                      1                          3  \n",
       "1                      1                          0  \n",
       "2                      1                          3  \n",
       "3                      1                          0  \n",
       "4                      1                          3  "
      ]
     },
     "execution_count": 41,
     "metadata": {},
     "output_type": "execute_result"
    }
   ],
   "source": [
    "cluster2 = KMeans(n_clusters=5)\n",
    "cluster2.fit(df[['Annual Income (k$)','Spending Score (1-100)']])\n",
    "df['Annual Income vs Spending'] = cluster2.labels_\n",
    "df.head()"
   ]
  },
  {
   "cell_type": "code",
   "execution_count": 42,
   "id": "b9071c3c",
   "metadata": {},
   "outputs": [
    {
     "data": {
      "text/plain": [
       "[<matplotlib.lines.Line2D at 0x1bb4cc5b340>]"
      ]
     },
     "execution_count": 42,
     "metadata": {},
     "output_type": "execute_result"
    },
    {
     "data": {
      "image/png": "[encoded data removed]",
      "text/plain": [
       "<Figure size 432x288 with 1 Axes>"
      ]
     },
     "metadata": {
      "needs_background": "light"
     },
     "output_type": "display_data"
    }
   ],
   "source": [
    "inertia2 = []\n",
    "\n",
    "for i in range(1, 11):\n",
    "    cluster2 = KMeans(n_clusters=i)\n",
    "    cluster2.fit(df[['Annual Income (k$)', 'Spending Score (1-100)']])\n",
    "    inertia2.append(cluster2.inertia_)\n",
    "\n",
    "plt.plot(range(1,11),inertia2,marker='d')"
   ]
  },
  {
   "cell_type": "markdown",
   "id": "a27597e6",
   "metadata": {},
   "source": [
    "We can see our optimal cluster for bivariate clustering is around 5 ."
   ]
  },
  {
   "cell_type": "code",
   "execution_count": 43,
   "id": "cf76c90a",
   "metadata": {},
   "outputs": [
    {
     "data": {
      "text/html": [
       "<div>\n",
       "<style scoped>\n",
       "    .dataframe tbody tr th:only-of-type {\n",
       "        vertical-align: middle;\n",
       "    }\n",
       "\n",
       "    .dataframe tbody tr th {\n",
       "        vertical-align: top;\n",
       "    }\n",
       "\n",
       "    .dataframe thead th {\n",
       "        text-align: right;\n",
       "    }\n",
       "</style>\n",
       "<table border=\"1\" class=\"dataframe\">\n",
       "  <thead>\n",
       "    <tr style=\"text-align: right;\">\n",
       "      <th></th>\n",
       "      <th>Age</th>\n",
       "      <th>Annual Income (k$)</th>\n",
       "      <th>Spending Score (1-100)</th>\n",
       "    </tr>\n",
       "    <tr>\n",
       "      <th>Annual Income vs Spending</th>\n",
       "      <th></th>\n",
       "      <th></th>\n",
       "      <th></th>\n",
       "    </tr>\n",
       "  </thead>\n",
       "  <tbody>\n",
       "    <tr>\n",
       "      <th>0</th>\n",
       "      <td>25.272727</td>\n",
       "      <td>25.727273</td>\n",
       "      <td>79.363636</td>\n",
       "    </tr>\n",
       "    <tr>\n",
       "      <th>1</th>\n",
       "      <td>32.763158</td>\n",
       "      <td>85.210526</td>\n",
       "      <td>82.105263</td>\n",
       "    </tr>\n",
       "    <tr>\n",
       "      <th>2</th>\n",
       "      <td>42.937500</td>\n",
       "      <td>55.087500</td>\n",
       "      <td>49.712500</td>\n",
       "    </tr>\n",
       "    <tr>\n",
       "      <th>3</th>\n",
       "      <td>45.217391</td>\n",
       "      <td>26.304348</td>\n",
       "      <td>20.913043</td>\n",
       "    </tr>\n",
       "    <tr>\n",
       "      <th>4</th>\n",
       "      <td>40.914286</td>\n",
       "      <td>86.342857</td>\n",
       "      <td>17.571429</td>\n",
       "    </tr>\n",
       "  </tbody>\n",
       "</table>\n",
       "</div>"
      ],
      "text/plain": [
       "                                 Age  Annual Income (k$)  \\\n",
       "Annual Income vs Spending                                  \n",
       "0                          25.272727           25.727273   \n",
       "1                          32.763158           85.210526   \n",
       "2                          42.937500           55.087500   \n",
       "3                          45.217391           26.304348   \n",
       "4                          40.914286           86.342857   \n",
       "\n",
       "                           Spending Score (1-100)  \n",
       "Annual Income vs Spending                          \n",
       "0                                       79.363636  \n",
       "1                                       82.105263  \n",
       "2                                       49.712500  \n",
       "3                                       20.913043  \n",
       "4                                       17.571429  "
      ]
     },
     "execution_count": 43,
     "metadata": {},
     "output_type": "execute_result"
    }
   ],
   "source": [
    "df.groupby('Annual Income vs Spending')['Age', 'Annual Income (k$)', 'Spending Score (1-100)'].mean()"
   ]
  },
  {
   "cell_type": "code",
   "execution_count": 44,
   "id": "1846dc4e",
   "metadata": {},
   "outputs": [
    {
     "data": {
      "text/plain": [
       "2    80\n",
       "1    38\n",
       "4    35\n",
       "3    23\n",
       "0    22\n",
       "Name: Annual Income vs Spending, dtype: int64"
      ]
     },
     "execution_count": 44,
     "metadata": {},
     "output_type": "execute_result"
    }
   ],
   "source": [
    "df['Annual Income vs Spending'].value_counts()"
   ]
  },
  {
   "cell_type": "code",
   "execution_count": 45,
   "id": "27a65891",
   "metadata": {},
   "outputs": [
    {
     "data": {
      "text/plain": [
       "<AxesSubplot:xlabel='Annual Income vs Spending', ylabel='count'>"
      ]
     },
     "execution_count": 45,
     "metadata": {},
     "output_type": "execute_result"
    },
    {
     "data": {
      "image/png": "[encoded data removed]",
      "text/plain": [
       "<Figure size 432x288 with 1 Axes>"
      ]
     },
     "metadata": {
      "needs_background": "light"
     },
     "output_type": "display_data"
    }
   ],
   "source": [
    "sns.countplot(df['Annual Income vs Spending'],order=df['Annual Income vs Spending'].value_counts().index)"
   ]
  },
  {
   "cell_type": "code",
   "execution_count": 46,
   "id": "40475d8f",
   "metadata": {},
   "outputs": [
    {
     "data": {
      "text/plain": [
       "<AxesSubplot:xlabel='Annual Income (k$)', ylabel='Spending Score (1-100)'>"
      ]
     },
     "execution_count": 46,
     "metadata": {},
     "output_type": "execute_result"
    },
    {
     "data": {
      "image/png": "[encoded data removed]",
      "text/plain": [
       "<Figure size 720x576 with 1 Axes>"
      ]
     },
     "metadata": {
      "needs_background": "light"
     },
     "output_type": "display_data"
    }
   ],
   "source": [
    "# The optimal number of clusters came out to be 5 lets visualize the dataset,\n",
    "# by annual income vs spending score in a scatter plot to see if its true\n",
    "plt.figure(figsize=(10,8))\n",
    "sns.scatterplot(df['Annual Income (k$)'], df['Spending Score (1-100)'], hue=df['Annual Income vs Spending'], palette='tab10', data=df)"
   ]
  },
  {
   "cell_type": "markdown",
   "id": "b68bad62",
   "metadata": {},
   "source": [
    "We can see with our eyes that there is around 5 clusters in the data set."
   ]
  },
  {
   "cell_type": "code",
   "execution_count": 47,
   "id": "e5a00895",
   "metadata": {},
   "outputs": [
    {
     "data": {
      "text/plain": [
       "array([[ 63.95238095,  46.21428571],\n",
       "       [ 77.78571429,  73.28571429],\n",
       "       [ 25.0952381 ,  80.04761905],\n",
       "       [ 24.58333333,   9.58333333],\n",
       "       [106.66666667,  22.44444444],\n",
       "       [106.66666667,  81.88888889],\n",
       "       [ 47.86046512,  51.97674419],\n",
       "       [ 79.26666667,  90.46666667],\n",
       "       [ 80.18181818,  12.68181818],\n",
       "       [ 28.18181818,  33.27272727]])"
      ]
     },
     "execution_count": 47,
     "metadata": {},
     "output_type": "execute_result"
    }
   ],
   "source": [
    "# Dimention of the centriods\n",
    "cluster2.cluster_centers_"
   ]
  },
  {
   "cell_type": "code",
   "execution_count": 48,
   "id": "2337e809",
   "metadata": {},
   "outputs": [
    {
     "data": {
      "text/html": [
       "<div>\n",
       "<style scoped>\n",
       "    .dataframe tbody tr th:only-of-type {\n",
       "        vertical-align: middle;\n",
       "    }\n",
       "\n",
       "    .dataframe tbody tr th {\n",
       "        vertical-align: top;\n",
       "    }\n",
       "\n",
       "    .dataframe thead th {\n",
       "        text-align: right;\n",
       "    }\n",
       "</style>\n",
       "<table border=\"1\" class=\"dataframe\">\n",
       "  <thead>\n",
       "    <tr style=\"text-align: right;\">\n",
       "      <th></th>\n",
       "      <th>X</th>\n",
       "      <th>Y</th>\n",
       "    </tr>\n",
       "  </thead>\n",
       "  <tbody>\n",
       "    <tr>\n",
       "      <th>0</th>\n",
       "      <td>63.952381</td>\n",
       "      <td>46.214286</td>\n",
       "    </tr>\n",
       "    <tr>\n",
       "      <th>1</th>\n",
       "      <td>77.785714</td>\n",
       "      <td>73.285714</td>\n",
       "    </tr>\n",
       "    <tr>\n",
       "      <th>2</th>\n",
       "      <td>25.095238</td>\n",
       "      <td>80.047619</td>\n",
       "    </tr>\n",
       "    <tr>\n",
       "      <th>3</th>\n",
       "      <td>24.583333</td>\n",
       "      <td>9.583333</td>\n",
       "    </tr>\n",
       "    <tr>\n",
       "      <th>4</th>\n",
       "      <td>106.666667</td>\n",
       "      <td>22.444444</td>\n",
       "    </tr>\n",
       "    <tr>\n",
       "      <th>5</th>\n",
       "      <td>106.666667</td>\n",
       "      <td>81.888889</td>\n",
       "    </tr>\n",
       "    <tr>\n",
       "      <th>6</th>\n",
       "      <td>47.860465</td>\n",
       "      <td>51.976744</td>\n",
       "    </tr>\n",
       "    <tr>\n",
       "      <th>7</th>\n",
       "      <td>79.266667</td>\n",
       "      <td>90.466667</td>\n",
       "    </tr>\n",
       "    <tr>\n",
       "      <th>8</th>\n",
       "      <td>80.181818</td>\n",
       "      <td>12.681818</td>\n",
       "    </tr>\n",
       "    <tr>\n",
       "      <th>9</th>\n",
       "      <td>28.181818</td>\n",
       "      <td>33.272727</td>\n",
       "    </tr>\n",
       "  </tbody>\n",
       "</table>\n",
       "</div>"
      ],
      "text/plain": [
       "            X          Y\n",
       "0   63.952381  46.214286\n",
       "1   77.785714  73.285714\n",
       "2   25.095238  80.047619\n",
       "3   24.583333   9.583333\n",
       "4  106.666667  22.444444\n",
       "5  106.666667  81.888889\n",
       "6   47.860465  51.976744\n",
       "7   79.266667  90.466667\n",
       "8   80.181818  12.681818\n",
       "9   28.181818  33.272727"
      ]
     },
     "execution_count": 48,
     "metadata": {},
     "output_type": "execute_result"
    }
   ],
   "source": [
    "# Convert the array into a dataframe\n",
    "centres = pd.DataFrame(cluster2.cluster_centers_)\n",
    "centres.columns = ['X','Y']\n",
    "centres"
   ]
  },
  {
   "cell_type": "code",
   "execution_count": 49,
   "id": "fcbd6f46",
   "metadata": {},
   "outputs": [
    {
     "data": {
      "text/html": [
       "<div>\n",
       "<style scoped>\n",
       "    .dataframe tbody tr th:only-of-type {\n",
       "        vertical-align: middle;\n",
       "    }\n",
       "\n",
       "    .dataframe tbody tr th {\n",
       "        vertical-align: top;\n",
       "    }\n",
       "\n",
       "    .dataframe thead th {\n",
       "        text-align: right;\n",
       "    }\n",
       "</style>\n",
       "<table border=\"1\" class=\"dataframe\">\n",
       "  <thead>\n",
       "    <tr style=\"text-align: right;\">\n",
       "      <th></th>\n",
       "      <th>Gender</th>\n",
       "      <th>Age</th>\n",
       "      <th>Annual Income (k$)</th>\n",
       "      <th>Spending Score (1-100)</th>\n",
       "      <th>Annual Income Cluster</th>\n",
       "      <th>Annual Income vs Spending</th>\n",
       "    </tr>\n",
       "  </thead>\n",
       "  <tbody>\n",
       "    <tr>\n",
       "      <th>0</th>\n",
       "      <td>Male</td>\n",
       "      <td>19</td>\n",
       "      <td>15</td>\n",
       "      <td>39</td>\n",
       "      <td>1</td>\n",
       "      <td>3</td>\n",
       "    </tr>\n",
       "    <tr>\n",
       "      <th>1</th>\n",
       "      <td>Male</td>\n",
       "      <td>21</td>\n",
       "      <td>15</td>\n",
       "      <td>81</td>\n",
       "      <td>1</td>\n",
       "      <td>0</td>\n",
       "    </tr>\n",
       "    <tr>\n",
       "      <th>2</th>\n",
       "      <td>Female</td>\n",
       "      <td>20</td>\n",
       "      <td>16</td>\n",
       "      <td>6</td>\n",
       "      <td>1</td>\n",
       "      <td>3</td>\n",
       "    </tr>\n",
       "    <tr>\n",
       "      <th>3</th>\n",
       "      <td>Female</td>\n",
       "      <td>23</td>\n",
       "      <td>16</td>\n",
       "      <td>77</td>\n",
       "      <td>1</td>\n",
       "      <td>0</td>\n",
       "    </tr>\n",
       "    <tr>\n",
       "      <th>4</th>\n",
       "      <td>Female</td>\n",
       "      <td>31</td>\n",
       "      <td>17</td>\n",
       "      <td>40</td>\n",
       "      <td>1</td>\n",
       "      <td>3</td>\n",
       "    </tr>\n",
       "  </tbody>\n",
       "</table>\n",
       "</div>"
      ],
      "text/plain": [
       "   Gender  Age  Annual Income (k$)  Spending Score (1-100)  \\\n",
       "0    Male   19                  15                      39   \n",
       "1    Male   21                  15                      81   \n",
       "2  Female   20                  16                       6   \n",
       "3  Female   23                  16                      77   \n",
       "4  Female   31                  17                      40   \n",
       "\n",
       "   Annual Income Cluster  Annual Income vs Spending  \n",
       "0                      1                          3  \n",
       "1                      1                          0  \n",
       "2                      1                          3  \n",
       "3                      1                          0  \n",
       "4                      1                          3  "
      ]
     },
     "execution_count": 49,
     "metadata": {},
     "output_type": "execute_result"
    }
   ],
   "source": [
    "df.head()"
   ]
  },
  {
   "cell_type": "code",
   "execution_count": 50,
   "id": "802e6513",
   "metadata": {},
   "outputs": [
    {
     "data": {
      "text/plain": [
       "<AxesSubplot:xlabel='Annual Income (k$)', ylabel='Spending Score (1-100)'>"
      ]
     },
     "execution_count": 50,
     "metadata": {},
     "output_type": "execute_result"
    },
    {
     "data": {
      "image/png": "[encoded data removed]",
      "text/plain": [
       "<Figure size 720x576 with 1 Axes>"
      ]
     },
     "metadata": {
      "needs_background": "light"
     },
     "output_type": "display_data"
    }
   ],
   "source": [
    "plt.figure(figsize=(10,8))\n",
    "plt.scatter(centres['X'],centres['Y'],s=100,c='black',marker='d')\n",
    "sns.scatterplot(df['Annual Income (k$)'], df['Spending Score (1-100)'], hue=df['Annual Income vs Spending'], palette='tab10', data=df)"
   ]
  },
  {
   "cell_type": "markdown",
   "id": "264eaedd",
   "metadata": {},
   "source": [
    "Now we can see the centriods respective to their clusters."
   ]
  },
  {
   "cell_type": "code",
   "execution_count": 51,
   "id": "692c0bdb",
   "metadata": {},
   "outputs": [
    {
     "data": {
      "text/html": [
       "<div>\n",
       "<style scoped>\n",
       "    .dataframe tbody tr th:only-of-type {\n",
       "        vertical-align: middle;\n",
       "    }\n",
       "\n",
       "    .dataframe tbody tr th {\n",
       "        vertical-align: top;\n",
       "    }\n",
       "\n",
       "    .dataframe thead th {\n",
       "        text-align: right;\n",
       "    }\n",
       "</style>\n",
       "<table border=\"1\" class=\"dataframe\">\n",
       "  <thead>\n",
       "    <tr style=\"text-align: right;\">\n",
       "      <th>Gender</th>\n",
       "      <th>Female</th>\n",
       "      <th>Male</th>\n",
       "    </tr>\n",
       "    <tr>\n",
       "      <th>Annual Income vs Spending</th>\n",
       "      <th></th>\n",
       "      <th></th>\n",
       "    </tr>\n",
       "  </thead>\n",
       "  <tbody>\n",
       "    <tr>\n",
       "      <th>0</th>\n",
       "      <td>13</td>\n",
       "      <td>9</td>\n",
       "    </tr>\n",
       "    <tr>\n",
       "      <th>1</th>\n",
       "      <td>21</td>\n",
       "      <td>17</td>\n",
       "    </tr>\n",
       "    <tr>\n",
       "      <th>2</th>\n",
       "      <td>47</td>\n",
       "      <td>33</td>\n",
       "    </tr>\n",
       "    <tr>\n",
       "      <th>3</th>\n",
       "      <td>14</td>\n",
       "      <td>9</td>\n",
       "    </tr>\n",
       "    <tr>\n",
       "      <th>4</th>\n",
       "      <td>17</td>\n",
       "      <td>18</td>\n",
       "    </tr>\n",
       "  </tbody>\n",
       "</table>\n",
       "</div>"
      ],
      "text/plain": [
       "Gender                     Female  Male\n",
       "Annual Income vs Spending              \n",
       "0                              13     9\n",
       "1                              21    17\n",
       "2                              47    33\n",
       "3                              14     9\n",
       "4                              17    18"
      ]
     },
     "execution_count": 51,
     "metadata": {},
     "output_type": "execute_result"
    }
   ],
   "source": [
    "# Cross tab to see gender division in cluster\n",
    "pd.crosstab(df['Annual Income vs Spending'],df['Gender'])"
   ]
  },
  {
   "cell_type": "markdown",
   "id": "86d6dcac",
   "metadata": {},
   "source": [
    "# Multivariate Clustering."
   ]
  },
  {
   "cell_type": "code",
   "execution_count": 52,
   "id": "b77a5b02",
   "metadata": {},
   "outputs": [],
   "source": [
    "from sklearn.preprocessing import StandardScaler"
   ]
  },
  {
   "cell_type": "code",
   "execution_count": 53,
   "id": "1de97da8",
   "metadata": {},
   "outputs": [
    {
     "data": {
      "text/html": [
       "<div>\n",
       "<style scoped>\n",
       "    .dataframe tbody tr th:only-of-type {\n",
       "        vertical-align: middle;\n",
       "    }\n",
       "\n",
       "    .dataframe tbody tr th {\n",
       "        vertical-align: top;\n",
       "    }\n",
       "\n",
       "    .dataframe thead th {\n",
       "        text-align: right;\n",
       "    }\n",
       "</style>\n",
       "<table border=\"1\" class=\"dataframe\">\n",
       "  <thead>\n",
       "    <tr style=\"text-align: right;\">\n",
       "      <th></th>\n",
       "      <th>Gender</th>\n",
       "      <th>Age</th>\n",
       "      <th>Annual Income (k$)</th>\n",
       "      <th>Spending Score (1-100)</th>\n",
       "      <th>Annual Income Cluster</th>\n",
       "      <th>Annual Income vs Spending</th>\n",
       "    </tr>\n",
       "  </thead>\n",
       "  <tbody>\n",
       "    <tr>\n",
       "      <th>0</th>\n",
       "      <td>Male</td>\n",
       "      <td>19</td>\n",
       "      <td>15</td>\n",
       "      <td>39</td>\n",
       "      <td>1</td>\n",
       "      <td>3</td>\n",
       "    </tr>\n",
       "    <tr>\n",
       "      <th>1</th>\n",
       "      <td>Male</td>\n",
       "      <td>21</td>\n",
       "      <td>15</td>\n",
       "      <td>81</td>\n",
       "      <td>1</td>\n",
       "      <td>0</td>\n",
       "    </tr>\n",
       "    <tr>\n",
       "      <th>2</th>\n",
       "      <td>Female</td>\n",
       "      <td>20</td>\n",
       "      <td>16</td>\n",
       "      <td>6</td>\n",
       "      <td>1</td>\n",
       "      <td>3</td>\n",
       "    </tr>\n",
       "    <tr>\n",
       "      <th>3</th>\n",
       "      <td>Female</td>\n",
       "      <td>23</td>\n",
       "      <td>16</td>\n",
       "      <td>77</td>\n",
       "      <td>1</td>\n",
       "      <td>0</td>\n",
       "    </tr>\n",
       "    <tr>\n",
       "      <th>4</th>\n",
       "      <td>Female</td>\n",
       "      <td>31</td>\n",
       "      <td>17</td>\n",
       "      <td>40</td>\n",
       "      <td>1</td>\n",
       "      <td>3</td>\n",
       "    </tr>\n",
       "  </tbody>\n",
       "</table>\n",
       "</div>"
      ],
      "text/plain": [
       "   Gender  Age  Annual Income (k$)  Spending Score (1-100)  \\\n",
       "0    Male   19                  15                      39   \n",
       "1    Male   21                  15                      81   \n",
       "2  Female   20                  16                       6   \n",
       "3  Female   23                  16                      77   \n",
       "4  Female   31                  17                      40   \n",
       "\n",
       "   Annual Income Cluster  Annual Income vs Spending  \n",
       "0                      1                          3  \n",
       "1                      1                          0  \n",
       "2                      1                          3  \n",
       "3                      1                          0  \n",
       "4                      1                          3  "
      ]
     },
     "execution_count": 53,
     "metadata": {},
     "output_type": "execute_result"
    }
   ],
   "source": [
    "df.head()"
   ]
  },
  {
   "cell_type": "code",
   "execution_count": 54,
   "id": "bd70fdea",
   "metadata": {},
   "outputs": [],
   "source": [
    "# Encoding categorical column gender.\n",
    "df.replace({'Gender':{'Male': 1,'Female': 0}}, inplace=True)"
   ]
  },
  {
   "cell_type": "code",
   "execution_count": 55,
   "id": "a9cd78a3",
   "metadata": {},
   "outputs": [
    {
     "data": {
      "text/html": [
       "<div>\n",
       "<style scoped>\n",
       "    .dataframe tbody tr th:only-of-type {\n",
       "        vertical-align: middle;\n",
       "    }\n",
       "\n",
       "    .dataframe tbody tr th {\n",
       "        vertical-align: top;\n",
       "    }\n",
       "\n",
       "    .dataframe thead th {\n",
       "        text-align: right;\n",
       "    }\n",
       "</style>\n",
       "<table border=\"1\" class=\"dataframe\">\n",
       "  <thead>\n",
       "    <tr style=\"text-align: right;\">\n",
       "      <th></th>\n",
       "      <th>Gender</th>\n",
       "      <th>Age</th>\n",
       "      <th>Annual Income (k$)</th>\n",
       "      <th>Spending Score (1-100)</th>\n",
       "      <th>Annual Income Cluster</th>\n",
       "      <th>Annual Income vs Spending</th>\n",
       "    </tr>\n",
       "  </thead>\n",
       "  <tbody>\n",
       "    <tr>\n",
       "      <th>0</th>\n",
       "      <td>1</td>\n",
       "      <td>19</td>\n",
       "      <td>15</td>\n",
       "      <td>39</td>\n",
       "      <td>1</td>\n",
       "      <td>3</td>\n",
       "    </tr>\n",
       "    <tr>\n",
       "      <th>1</th>\n",
       "      <td>1</td>\n",
       "      <td>21</td>\n",
       "      <td>15</td>\n",
       "      <td>81</td>\n",
       "      <td>1</td>\n",
       "      <td>0</td>\n",
       "    </tr>\n",
       "    <tr>\n",
       "      <th>2</th>\n",
       "      <td>0</td>\n",
       "      <td>20</td>\n",
       "      <td>16</td>\n",
       "      <td>6</td>\n",
       "      <td>1</td>\n",
       "      <td>3</td>\n",
       "    </tr>\n",
       "    <tr>\n",
       "      <th>3</th>\n",
       "      <td>0</td>\n",
       "      <td>23</td>\n",
       "      <td>16</td>\n",
       "      <td>77</td>\n",
       "      <td>1</td>\n",
       "      <td>0</td>\n",
       "    </tr>\n",
       "    <tr>\n",
       "      <th>4</th>\n",
       "      <td>0</td>\n",
       "      <td>31</td>\n",
       "      <td>17</td>\n",
       "      <td>40</td>\n",
       "      <td>1</td>\n",
       "      <td>3</td>\n",
       "    </tr>\n",
       "  </tbody>\n",
       "</table>\n",
       "</div>"
      ],
      "text/plain": [
       "   Gender  Age  Annual Income (k$)  Spending Score (1-100)  \\\n",
       "0       1   19                  15                      39   \n",
       "1       1   21                  15                      81   \n",
       "2       0   20                  16                       6   \n",
       "3       0   23                  16                      77   \n",
       "4       0   31                  17                      40   \n",
       "\n",
       "   Annual Income Cluster  Annual Income vs Spending  \n",
       "0                      1                          3  \n",
       "1                      1                          0  \n",
       "2                      1                          3  \n",
       "3                      1                          0  \n",
       "4                      1                          3  "
      ]
     },
     "execution_count": 55,
     "metadata": {},
     "output_type": "execute_result"
    }
   ],
   "source": [
    "df.head()"
   ]
  },
  {
   "cell_type": "code",
   "execution_count": 56,
   "id": "6a1dc643",
   "metadata": {},
   "outputs": [],
   "source": [
    "scale = StandardScaler()"
   ]
  },
  {
   "cell_type": "code",
   "execution_count": 57,
   "id": "14160700",
   "metadata": {},
   "outputs": [],
   "source": [
    "# Getting the required features\n",
    "df = df[['Gender', 'Age', 'Annual Income (k$)', 'Spending Score (1-100)']]"
   ]
  },
  {
   "cell_type": "code",
   "execution_count": 58,
   "id": "99a71ae1",
   "metadata": {},
   "outputs": [
    {
     "data": {
      "text/html": [
       "<div>\n",
       "<style scoped>\n",
       "    .dataframe tbody tr th:only-of-type {\n",
       "        vertical-align: middle;\n",
       "    }\n",
       "\n",
       "    .dataframe tbody tr th {\n",
       "        vertical-align: top;\n",
       "    }\n",
       "\n",
       "    .dataframe thead th {\n",
       "        text-align: right;\n",
       "    }\n",
       "</style>\n",
       "<table border=\"1\" class=\"dataframe\">\n",
       "  <thead>\n",
       "    <tr style=\"text-align: right;\">\n",
       "      <th></th>\n",
       "      <th>Gender</th>\n",
       "      <th>Age</th>\n",
       "      <th>Annual Income (k$)</th>\n",
       "      <th>Spending Score (1-100)</th>\n",
       "    </tr>\n",
       "  </thead>\n",
       "  <tbody>\n",
       "    <tr>\n",
       "      <th>0</th>\n",
       "      <td>1</td>\n",
       "      <td>19</td>\n",
       "      <td>15</td>\n",
       "      <td>39</td>\n",
       "    </tr>\n",
       "    <tr>\n",
       "      <th>1</th>\n",
       "      <td>1</td>\n",
       "      <td>21</td>\n",
       "      <td>15</td>\n",
       "      <td>81</td>\n",
       "    </tr>\n",
       "    <tr>\n",
       "      <th>2</th>\n",
       "      <td>0</td>\n",
       "      <td>20</td>\n",
       "      <td>16</td>\n",
       "      <td>6</td>\n",
       "    </tr>\n",
       "    <tr>\n",
       "      <th>3</th>\n",
       "      <td>0</td>\n",
       "      <td>23</td>\n",
       "      <td>16</td>\n",
       "      <td>77</td>\n",
       "    </tr>\n",
       "    <tr>\n",
       "      <th>4</th>\n",
       "      <td>0</td>\n",
       "      <td>31</td>\n",
       "      <td>17</td>\n",
       "      <td>40</td>\n",
       "    </tr>\n",
       "  </tbody>\n",
       "</table>\n",
       "</div>"
      ],
      "text/plain": [
       "   Gender  Age  Annual Income (k$)  Spending Score (1-100)\n",
       "0       1   19                  15                      39\n",
       "1       1   21                  15                      81\n",
       "2       0   20                  16                       6\n",
       "3       0   23                  16                      77\n",
       "4       0   31                  17                      40"
      ]
     },
     "execution_count": 58,
     "metadata": {},
     "output_type": "execute_result"
    }
   ],
   "source": [
    "df.head()"
   ]
  },
  {
   "cell_type": "code",
   "execution_count": 59,
   "id": "2e0a2f5a",
   "metadata": {},
   "outputs": [],
   "source": [
    "# Now we are going to scale all the columns.\n",
    "df_scaled = scale.fit_transform(df)"
   ]
  },
  {
   "cell_type": "code",
   "execution_count": 60,
   "id": "ed409749",
   "metadata": {},
   "outputs": [
    {
     "data": {
      "text/plain": [
       "array([[ 1.1411948 , -1.42541358, -1.77917141, -0.43598941],\n",
       "       [ 1.1411948 , -1.2823665 , -1.77917141,  1.19941337],\n",
       "       [-0.87627458, -1.35389004, -1.73944701, -1.72094874],\n",
       "       [-0.87627458, -1.13931942, -1.73944701,  1.04366072],\n",
       "       [-0.87627458, -0.5671311 , -1.69972262, -0.39705125],\n",
       "       [-0.87627458, -1.21084296, -1.69972262,  1.00472256],\n",
       "       [-0.87627458, -0.28103694, -1.65999822, -1.72094874],\n",
       "       [-0.87627458, -1.13931942, -1.65999822,  1.70560947],\n",
       "       [ 1.1411948 ,  1.79314572, -1.62027383, -1.83776323],\n",
       "       [-0.87627458, -0.63865464, -1.62027383,  0.84896992],\n",
       "       [ 1.1411948 ,  2.00771635, -1.62027383, -1.40944345],\n",
       "       [-0.87627458, -0.28103694, -1.62027383,  1.90030028],\n",
       "       [-0.87627458,  1.36400448, -1.58054943, -1.37050529],\n",
       "       [-0.87627458, -1.06779588, -1.58054943,  1.04366072],\n",
       "       [ 1.1411948 , -0.13798986, -1.58054943, -1.44838161],\n",
       "       [ 1.1411948 , -1.21084296, -1.58054943,  1.12153705],\n",
       "       [-0.87627458, -0.28103694, -1.54082504, -0.59174206],\n",
       "       [ 1.1411948 , -1.35389004, -1.54082504,  0.61534095],\n",
       "       [ 1.1411948 ,  0.93486324, -1.46137625, -0.82537103],\n",
       "       [-0.87627458, -0.28103694, -1.46137625,  1.86136212],\n",
       "       [ 1.1411948 , -0.28103694, -1.42165185, -0.59174206],\n",
       "       [ 1.1411948 , -0.99627234, -1.42165185,  0.88790808],\n",
       "       [-0.87627458,  0.505722  , -1.38192745, -1.75988691],\n",
       "       [ 1.1411948 , -0.5671311 , -1.38192745,  0.88790808],\n",
       "       [-0.87627458,  1.07791032, -1.26275427, -1.40944345],\n",
       "       [ 1.1411948 , -0.71017818, -1.26275427,  1.23835153],\n",
       "       [-0.87627458,  0.43419846, -1.26275427, -0.70855655],\n",
       "       [ 1.1411948 , -0.28103694, -1.26275427,  0.42065014],\n",
       "       [-0.87627458,  0.07658076, -1.22302987, -0.74749471],\n",
       "       [-0.87627458, -1.13931942, -1.22302987,  1.43304234],\n",
       "       [ 1.1411948 ,  1.50705156, -1.18330548, -1.79882507],\n",
       "       [-0.87627458, -1.2823665 , -1.18330548,  0.88790808],\n",
       "       [ 1.1411948 ,  1.00638678, -1.06413229, -1.79882507],\n",
       "       [ 1.1411948 , -1.49693712, -1.06413229,  1.62773315],\n",
       "       [-0.87627458,  0.72029262, -1.06413229, -1.40944345],\n",
       "       [-0.87627458, -1.2823665 , -1.06413229,  1.19941337],\n",
       "       [-0.87627458,  0.21962784, -1.0244079 , -1.29262897],\n",
       "       [-0.87627458, -0.63865464, -1.0244079 ,  0.88790808],\n",
       "       [-0.87627458, -0.2095134 , -0.90523471, -0.94218551],\n",
       "       [-0.87627458, -1.35389004, -0.90523471,  0.9657844 ],\n",
       "       [-0.87627458,  1.86466927, -0.86551031, -0.59174206],\n",
       "       [ 1.1411948 , -1.06779588, -0.86551031,  1.62773315],\n",
       "       [ 1.1411948 ,  0.64876908, -0.82578592, -0.5528039 ],\n",
       "       [-0.87627458, -0.5671311 , -0.82578592,  0.42065014],\n",
       "       [-0.87627458,  0.72029262, -0.82578592, -0.86430919],\n",
       "       [-0.87627458, -1.06779588, -0.82578592,  0.57640278],\n",
       "       [-0.87627458,  0.79181616, -0.78606152,  0.18702117],\n",
       "       [-0.87627458, -0.85322526, -0.78606152, -0.12448412],\n",
       "       [-0.87627458, -0.71017818, -0.78606152, -0.31917493],\n",
       "       [-0.87627458, -0.5671311 , -0.78606152, -0.31917493],\n",
       "       [-0.87627458,  0.72029262, -0.70661273,  0.07020669],\n",
       "       [ 1.1411948 , -0.42408402, -0.70661273,  0.38171198],\n",
       "       [-0.87627458, -0.5671311 , -0.66688834,  0.14808301],\n",
       "       [ 1.1411948 ,  1.43552802, -0.66688834,  0.38171198],\n",
       "       [-0.87627458,  0.79181616, -0.66688834, -0.20236045],\n",
       "       [ 1.1411948 ,  0.57724554, -0.66688834, -0.35811309],\n",
       "       [-0.87627458,  0.8633397 , -0.62716394, -0.00766964],\n",
       "       [ 1.1411948 ,  2.15076343, -0.62716394, -0.16342228],\n",
       "       [-0.87627458, -0.85322526, -0.54771515,  0.03126852],\n",
       "       [ 1.1411948 ,  1.00638678, -0.54771515, -0.16342228],\n",
       "       [ 1.1411948 ,  2.22228697, -0.54771515,  0.22595933],\n",
       "       [ 1.1411948 , -1.42541358, -0.54771515,  0.18702117],\n",
       "       [-0.87627458,  2.00771635, -0.50799075,  0.07020669],\n",
       "       [-0.87627458,  1.07791032, -0.50799075,  0.34277382],\n",
       "       [ 1.1411948 ,  1.72162218, -0.46826636,  0.03126852],\n",
       "       [ 1.1411948 , -1.49693712, -0.46826636,  0.34277382],\n",
       "       [-0.87627458,  0.29115138, -0.46826636, -0.00766964],\n",
       "       [-0.87627458,  2.07923989, -0.46826636, -0.08554596],\n",
       "       [ 1.1411948 , -1.42541358, -0.46826636,  0.34277382],\n",
       "       [-0.87627458, -0.49560756, -0.46826636, -0.12448412],\n",
       "       [ 1.1411948 ,  2.22228697, -0.42854196,  0.18702117],\n",
       "       [-0.87627458,  0.57724554, -0.42854196, -0.31917493],\n",
       "       [-0.87627458,  1.50705156, -0.38881757, -0.0466078 ],\n",
       "       [-0.87627458,  1.50705156, -0.38881757,  0.22595933],\n",
       "       [ 1.1411948 ,  1.43552802, -0.22991999, -0.12448412],\n",
       "       [ 1.1411948 , -0.9247488 , -0.22991999,  0.14808301],\n",
       "       [-0.87627458,  0.43419846, -0.22991999,  0.10914485],\n",
       "       [ 1.1411948 ,  0.07658076, -0.22991999, -0.08554596],\n",
       "       [-0.87627458, -1.13931942, -0.22991999,  0.07020669],\n",
       "       [-0.87627458,  0.72029262, -0.22991999, -0.31917493],\n",
       "       [ 1.1411948 ,  1.29248094, -0.22991999,  0.03126852],\n",
       "       [ 1.1411948 , -0.06646632, -0.22991999,  0.18702117],\n",
       "       [ 1.1411948 ,  2.00771635, -0.22991999, -0.35811309],\n",
       "       [-0.87627458,  0.505722  , -0.22991999, -0.24129861],\n",
       "       [-0.87627458, -1.2823665 , -0.22991999,  0.26489749],\n",
       "       [ 1.1411948 ,  0.64876908, -0.22991999, -0.16342228],\n",
       "       [-0.87627458,  1.14943386, -0.1107468 ,  0.30383565],\n",
       "       [-0.87627458, -1.21084296, -0.1107468 ,  0.18702117],\n",
       "       [-0.87627458, -0.35256048, -0.0710224 ,  0.38171198],\n",
       "       [-0.87627458,  0.79181616, -0.0710224 , -0.16342228],\n",
       "       [-0.87627458,  2.07923989, -0.03129801,  0.18702117],\n",
       "       [ 1.1411948 , -1.49693712, -0.03129801, -0.35811309],\n",
       "       [ 1.1411948 ,  0.64876908,  0.00842639, -0.0466078 ],\n",
       "       [-0.87627458,  0.07658076,  0.00842639, -0.39705125],\n",
       "       [-0.87627458, -0.49560756,  0.00842639, -0.31917493],\n",
       "       [ 1.1411948 , -1.06779588,  0.00842639,  0.07020669],\n",
       "       [-0.87627458,  0.57724554,  0.00842639, -0.12448412],\n",
       "       [-0.87627458, -0.85322526,  0.00842639, -0.00766964],\n",
       "       [ 1.1411948 ,  0.64876908,  0.04815078, -0.31917493],\n",
       "       [ 1.1411948 , -1.35389004,  0.04815078, -0.0466078 ],\n",
       "       [-0.87627458, -1.13931942,  0.08787518, -0.35811309],\n",
       "       [-0.87627458,  0.72029262,  0.08787518, -0.08554596],\n",
       "       [ 1.1411948 ,  2.00771635,  0.08787518,  0.34277382],\n",
       "       [ 1.1411948 , -0.9247488 ,  0.08787518,  0.18702117],\n",
       "       [ 1.1411948 ,  0.72029262,  0.08787518,  0.22595933],\n",
       "       [-0.87627458, -1.2823665 ,  0.08787518, -0.31917493],\n",
       "       [-0.87627458,  1.93619281,  0.12759957, -0.00766964],\n",
       "       [ 1.1411948 ,  1.07791032,  0.12759957, -0.16342228],\n",
       "       [ 1.1411948 ,  2.07923989,  0.12759957, -0.28023677],\n",
       "       [ 1.1411948 ,  1.93619281,  0.12759957, -0.08554596],\n",
       "       [ 1.1411948 ,  1.86466927,  0.12759957,  0.07020669],\n",
       "       [-0.87627458, -1.42541358,  0.12759957,  0.14808301],\n",
       "       [-0.87627458, -0.06646632,  0.16732397, -0.31917493],\n",
       "       [ 1.1411948 , -1.42541358,  0.16732397, -0.16342228],\n",
       "       [-0.87627458, -1.49693712,  0.20704836, -0.08554596],\n",
       "       [-0.87627458, -1.42541358,  0.20704836, -0.00766964],\n",
       "       [-0.87627458,  1.72162218,  0.20704836, -0.28023677],\n",
       "       [-0.87627458,  0.72029262,  0.20704836,  0.34277382],\n",
       "       [-0.87627458,  0.8633397 ,  0.28649716, -0.28023677],\n",
       "       [-0.87627458,  0.79181616,  0.28649716,  0.26489749],\n",
       "       [ 1.1411948 , -0.85322526,  0.28649716,  0.22595933],\n",
       "       [-0.87627458, -0.06646632,  0.28649716, -0.39705125],\n",
       "       [-0.87627458,  0.07658076,  0.36594595,  0.30383565],\n",
       "       [ 1.1411948 ,  0.00505722,  0.36594595,  1.58879498],\n",
       "       [-0.87627458, -1.13931942,  0.40567034, -0.82537103],\n",
       "       [-0.87627458, -0.5671311 ,  0.40567034,  1.04366072],\n",
       "       [ 1.1411948 ,  0.29115138,  0.44539474, -0.59174206],\n",
       "       [ 1.1411948 ,  0.07658076,  0.44539474,  1.74454763],\n",
       "       [ 1.1411948 ,  1.43552802,  0.44539474, -1.52625794],\n",
       "       [ 1.1411948 , -0.06646632,  0.44539474,  0.9657844 ],\n",
       "       [ 1.1411948 ,  0.57724554,  0.44539474, -1.60413426],\n",
       "       [ 1.1411948 ,  0.00505722,  0.44539474,  0.9657844 ],\n",
       "       [-0.87627458, -0.99627234,  0.48511913, -0.63068022],\n",
       "       [-0.87627458, -0.5671311 ,  0.48511913,  0.81003175],\n",
       "       [ 1.1411948 , -1.35389004,  0.52484353, -1.75988691],\n",
       "       [-0.87627458, -0.71017818,  0.52484353,  1.4719805 ],\n",
       "       [-0.87627458,  0.36267492,  0.52484353, -1.68201058],\n",
       "       [ 1.1411948 , -0.49560756,  0.52484353,  0.88790808],\n",
       "       [ 1.1411948 , -1.42541358,  0.56456792, -1.5651961 ],\n",
       "       [-0.87627458, -0.28103694,  0.56456792,  0.84896992],\n",
       "       [-0.87627458,  1.29248094,  0.60429232, -1.75988691],\n",
       "       [ 1.1411948 , -0.49560756,  0.60429232,  1.66667131],\n",
       "       [-0.87627458, -0.78170172,  0.64401671, -0.39705125],\n",
       "       [-0.87627458, -0.49560756,  0.64401671,  1.43304234],\n",
       "       [ 1.1411948 , -0.99627234,  0.68374111, -1.48731978],\n",
       "       [ 1.1411948 , -0.78170172,  0.68374111,  1.82242395],\n",
       "       [ 1.1411948 ,  0.64876908,  0.68374111, -0.5528039 ],\n",
       "       [-0.87627458, -0.49560756,  0.68374111,  0.92684624],\n",
       "       [-0.87627458, -0.35256048,  0.72346551, -1.09793816],\n",
       "       [ 1.1411948 , -0.35256048,  0.72346551,  1.54985682],\n",
       "       [ 1.1411948 ,  0.29115138,  0.72346551, -1.29262897],\n",
       "       [ 1.1411948 ,  0.00505722,  0.72346551,  1.4719805 ],\n",
       "       [-0.87627458,  0.36267492,  0.72346551, -1.17581448],\n",
       "       [-0.87627458, -0.06646632,  0.72346551,  1.00472256],\n",
       "       [-0.87627458,  0.57724554,  0.72346551, -1.33156713],\n",
       "       [-0.87627458, -0.85322526,  0.72346551,  1.51091866],\n",
       "       [ 1.1411948 , -0.13798986,  0.72346551, -1.91563955],\n",
       "       [-0.87627458, -0.63865464,  0.72346551,  1.08259888],\n",
       "       [ 1.1411948 , -0.35256048,  0.72346551, -1.91563955],\n",
       "       [-0.87627458, -0.63865464,  0.72346551,  0.88790808],\n",
       "       [-0.87627458,  1.2209574 ,  0.7631899 , -0.59174206],\n",
       "       [-0.87627458, -0.71017818,  0.7631899 ,  1.27728969],\n",
       "       [ 1.1411948 , -1.42541358,  0.84263869, -1.75988691],\n",
       "       [-0.87627458, -0.5671311 ,  0.84263869,  1.66667131],\n",
       "       [ 1.1411948 ,  0.79181616,  1.00153627, -0.94218551],\n",
       "       [-0.87627458, -0.2095134 ,  1.00153627,  0.9657844 ],\n",
       "       [ 1.1411948 ,  0.21962784,  1.04126067, -1.17581448],\n",
       "       [-0.87627458, -0.42408402,  1.04126067,  1.74454763],\n",
       "       [-0.87627458, -0.2095134 ,  1.08098506, -0.90324735],\n",
       "       [ 1.1411948 , -0.49560756,  1.08098506,  0.49852646],\n",
       "       [ 1.1411948 ,  0.07658076,  1.08098506, -1.44838161],\n",
       "       [ 1.1411948 , -0.78170172,  1.08098506,  0.9657844 ],\n",
       "       [ 1.1411948 , -0.2095134 ,  1.08098506, -1.5651961 ],\n",
       "       [ 1.1411948 , -0.2095134 ,  1.08098506,  1.62773315],\n",
       "       [-0.87627458,  0.93486324,  1.12070946, -1.44838161],\n",
       "       [-0.87627458, -0.63865464,  1.12070946,  1.39410418],\n",
       "       [ 1.1411948 ,  1.36400448,  1.12070946, -1.37050529],\n",
       "       [ 1.1411948 , -0.85322526,  1.12070946,  0.73215543],\n",
       "       [ 1.1411948 ,  1.43552802,  1.31933144, -1.40944345],\n",
       "       [ 1.1411948 , -0.28103694,  1.31933144,  1.54985682],\n",
       "       [-0.87627458, -0.13798986,  1.47822902, -0.70855655],\n",
       "       [-0.87627458, -0.49560756,  1.47822902,  1.39410418],\n",
       "       [ 1.1411948 ,  0.505722  ,  1.51795342, -1.37050529],\n",
       "       [-0.87627458, -0.71017818,  1.51795342,  1.4719805 ],\n",
       "       [-0.87627458,  0.1481043 ,  1.55767781, -0.43598941],\n",
       "       [ 1.1411948 , -0.63865464,  1.55767781,  1.82242395],\n",
       "       [-0.87627458,  1.07791032,  1.6371266 , -1.02006184],\n",
       "       [ 1.1411948 , -0.78170172,  1.6371266 ,  0.69321727],\n",
       "       [-0.87627458,  0.1481043 ,  1.71657539, -1.29262897],\n",
       "       [-0.87627458, -0.2095134 ,  1.71657539,  1.35516602],\n",
       "       [-0.87627458, -0.35256048,  1.71657539, -1.059     ],\n",
       "       [-0.87627458, -0.49560756,  1.71657539,  0.73215543],\n",
       "       [ 1.1411948 , -0.42408402,  2.11381935, -1.64307242],\n",
       "       [-0.87627458, -0.06646632,  2.11381935,  1.58879498],\n",
       "       [-0.87627458,  0.57724554,  2.39189012, -1.33156713],\n",
       "       [-0.87627458, -0.28103694,  2.39189012,  1.12153705],\n",
       "       [-0.87627458,  0.43419846,  2.63023649, -0.86430919],\n",
       "       [ 1.1411948 , -0.49560756,  2.63023649,  0.92684624]])"
      ]
     },
     "execution_count": 60,
     "metadata": {},
     "output_type": "execute_result"
    }
   ],
   "source": [
    "# This is an array to feed it to KMeans we need to turn it into a dataframe\n",
    "df_scaled"
   ]
  },
  {
   "cell_type": "code",
   "execution_count": 61,
   "id": "c1d68b56",
   "metadata": {},
   "outputs": [],
   "source": [
    "df_scaled = pd.DataFrame(df_scaled)"
   ]
  },
  {
   "cell_type": "code",
   "execution_count": 62,
   "id": "67fc066a",
   "metadata": {},
   "outputs": [
    {
     "data": {
      "text/html": [
       "<div>\n",
       "<style scoped>\n",
       "    .dataframe tbody tr th:only-of-type {\n",
       "        vertical-align: middle;\n",
       "    }\n",
       "\n",
       "    .dataframe tbody tr th {\n",
       "        vertical-align: top;\n",
       "    }\n",
       "\n",
       "    .dataframe thead th {\n",
       "        text-align: right;\n",
       "    }\n",
       "</style>\n",
       "<table border=\"1\" class=\"dataframe\">\n",
       "  <thead>\n",
       "    <tr style=\"text-align: right;\">\n",
       "      <th></th>\n",
       "      <th>0</th>\n",
       "      <th>1</th>\n",
       "      <th>2</th>\n",
       "      <th>3</th>\n",
       "    </tr>\n",
       "  </thead>\n",
       "  <tbody>\n",
       "    <tr>\n",
       "      <th>0</th>\n",
       "      <td>1.141195</td>\n",
       "      <td>-1.425414</td>\n",
       "      <td>-1.779171</td>\n",
       "      <td>-0.435989</td>\n",
       "    </tr>\n",
       "    <tr>\n",
       "      <th>1</th>\n",
       "      <td>1.141195</td>\n",
       "      <td>-1.282367</td>\n",
       "      <td>-1.779171</td>\n",
       "      <td>1.199413</td>\n",
       "    </tr>\n",
       "    <tr>\n",
       "      <th>2</th>\n",
       "      <td>-0.876275</td>\n",
       "      <td>-1.353890</td>\n",
       "      <td>-1.739447</td>\n",
       "      <td>-1.720949</td>\n",
       "    </tr>\n",
       "    <tr>\n",
       "      <th>3</th>\n",
       "      <td>-0.876275</td>\n",
       "      <td>-1.139319</td>\n",
       "      <td>-1.739447</td>\n",
       "      <td>1.043661</td>\n",
       "    </tr>\n",
       "    <tr>\n",
       "      <th>4</th>\n",
       "      <td>-0.876275</td>\n",
       "      <td>-0.567131</td>\n",
       "      <td>-1.699723</td>\n",
       "      <td>-0.397051</td>\n",
       "    </tr>\n",
       "    <tr>\n",
       "      <th>...</th>\n",
       "      <td>...</td>\n",
       "      <td>...</td>\n",
       "      <td>...</td>\n",
       "      <td>...</td>\n",
       "    </tr>\n",
       "    <tr>\n",
       "      <th>193</th>\n",
       "      <td>-0.876275</td>\n",
       "      <td>-0.066466</td>\n",
       "      <td>2.113819</td>\n",
       "      <td>1.588795</td>\n",
       "    </tr>\n",
       "    <tr>\n",
       "      <th>194</th>\n",
       "      <td>-0.876275</td>\n",
       "      <td>0.577246</td>\n",
       "      <td>2.391890</td>\n",
       "      <td>-1.331567</td>\n",
       "    </tr>\n",
       "    <tr>\n",
       "      <th>195</th>\n",
       "      <td>-0.876275</td>\n",
       "      <td>-0.281037</td>\n",
       "      <td>2.391890</td>\n",
       "      <td>1.121537</td>\n",
       "    </tr>\n",
       "    <tr>\n",
       "      <th>196</th>\n",
       "      <td>-0.876275</td>\n",
       "      <td>0.434198</td>\n",
       "      <td>2.630236</td>\n",
       "      <td>-0.864309</td>\n",
       "    </tr>\n",
       "    <tr>\n",
       "      <th>197</th>\n",
       "      <td>1.141195</td>\n",
       "      <td>-0.495608</td>\n",
       "      <td>2.630236</td>\n",
       "      <td>0.926846</td>\n",
       "    </tr>\n",
       "  </tbody>\n",
       "</table>\n",
       "<p>198 rows × 4 columns</p>\n",
       "</div>"
      ],
      "text/plain": [
       "            0         1         2         3\n",
       "0    1.141195 -1.425414 -1.779171 -0.435989\n",
       "1    1.141195 -1.282367 -1.779171  1.199413\n",
       "2   -0.876275 -1.353890 -1.739447 -1.720949\n",
       "3   -0.876275 -1.139319 -1.739447  1.043661\n",
       "4   -0.876275 -0.567131 -1.699723 -0.397051\n",
       "..        ...       ...       ...       ...\n",
       "193 -0.876275 -0.066466  2.113819  1.588795\n",
       "194 -0.876275  0.577246  2.391890 -1.331567\n",
       "195 -0.876275 -0.281037  2.391890  1.121537\n",
       "196 -0.876275  0.434198  2.630236 -0.864309\n",
       "197  1.141195 -0.495608  2.630236  0.926846\n",
       "\n",
       "[198 rows x 4 columns]"
      ]
     },
     "execution_count": 62,
     "metadata": {},
     "output_type": "execute_result"
    }
   ],
   "source": [
    "df_scaled"
   ]
  },
  {
   "cell_type": "code",
   "execution_count": 63,
   "id": "d4db18fd",
   "metadata": {},
   "outputs": [
    {
     "data": {
      "text/plain": [
       "[<matplotlib.lines.Line2D at 0x1bb4ce51ee0>]"
      ]
     },
     "execution_count": 63,
     "metadata": {},
     "output_type": "execute_result"
    },
    {
     "data": {
      "image/png": "[encoded data removed]",
      "text/plain": [
       "<Figure size 432x288 with 1 Axes>"
      ]
     },
     "metadata": {
      "needs_background": "light"
     },
     "output_type": "display_data"
    }
   ],
   "source": [
    "inertia3 = []\n",
    "\n",
    "for i in range(1,11):\n",
    "    cluster3 = KMeans(n_clusters=i)\n",
    "    cluster3.fit(df)\n",
    "    inertia3.append(cluster3.inertia_)\n",
    "\n",
    "plt.plot(range(1,11),inertia3, marker='d')"
   ]
  },
  {
   "cell_type": "markdown",
   "id": "162172bd",
   "metadata": {},
   "source": [
    "We can see the optimal cluster is still around 5 .\n"
   ]
  },
  {
   "cell_type": "code",
   "execution_count": 64,
   "id": "7271ee89",
   "metadata": {},
   "outputs": [
    {
     "data": {
      "text/html": [
       "<div>\n",
       "<style scoped>\n",
       "    .dataframe tbody tr th:only-of-type {\n",
       "        vertical-align: middle;\n",
       "    }\n",
       "\n",
       "    .dataframe tbody tr th {\n",
       "        vertical-align: top;\n",
       "    }\n",
       "\n",
       "    .dataframe thead th {\n",
       "        text-align: right;\n",
       "    }\n",
       "</style>\n",
       "<table border=\"1\" class=\"dataframe\">\n",
       "  <thead>\n",
       "    <tr style=\"text-align: right;\">\n",
       "      <th></th>\n",
       "      <th>Gender</th>\n",
       "      <th>Age</th>\n",
       "      <th>Annual Income (k$)</th>\n",
       "      <th>Spending Score (1-100)</th>\n",
       "      <th>Multivariate</th>\n",
       "    </tr>\n",
       "  </thead>\n",
       "  <tbody>\n",
       "    <tr>\n",
       "      <th>0</th>\n",
       "      <td>1</td>\n",
       "      <td>19</td>\n",
       "      <td>15</td>\n",
       "      <td>39</td>\n",
       "      <td>4</td>\n",
       "    </tr>\n",
       "    <tr>\n",
       "      <th>1</th>\n",
       "      <td>1</td>\n",
       "      <td>21</td>\n",
       "      <td>15</td>\n",
       "      <td>81</td>\n",
       "      <td>2</td>\n",
       "    </tr>\n",
       "    <tr>\n",
       "      <th>2</th>\n",
       "      <td>0</td>\n",
       "      <td>20</td>\n",
       "      <td>16</td>\n",
       "      <td>6</td>\n",
       "      <td>4</td>\n",
       "    </tr>\n",
       "    <tr>\n",
       "      <th>3</th>\n",
       "      <td>0</td>\n",
       "      <td>23</td>\n",
       "      <td>16</td>\n",
       "      <td>77</td>\n",
       "      <td>2</td>\n",
       "    </tr>\n",
       "    <tr>\n",
       "      <th>4</th>\n",
       "      <td>0</td>\n",
       "      <td>31</td>\n",
       "      <td>17</td>\n",
       "      <td>40</td>\n",
       "      <td>4</td>\n",
       "    </tr>\n",
       "  </tbody>\n",
       "</table>\n",
       "</div>"
      ],
      "text/plain": [
       "   Gender  Age  Annual Income (k$)  Spending Score (1-100)  Multivariate\n",
       "0       1   19                  15                      39             4\n",
       "1       1   21                  15                      81             2\n",
       "2       0   20                  16                       6             4\n",
       "3       0   23                  16                      77             2\n",
       "4       0   31                  17                      40             4"
      ]
     },
     "execution_count": 64,
     "metadata": {},
     "output_type": "execute_result"
    }
   ],
   "source": [
    "kmean = KMeans(n_clusters=5)\n",
    "kmean.fit(df)\n",
    "df['Multivariate'] = kmean.labels_\n",
    "df.head()"
   ]
  },
  {
   "cell_type": "code",
   "execution_count": 65,
   "id": "e8dee631",
   "metadata": {},
   "outputs": [
    {
     "data": {
      "text/html": [
       "<div>\n",
       "<style scoped>\n",
       "    .dataframe tbody tr th:only-of-type {\n",
       "        vertical-align: middle;\n",
       "    }\n",
       "\n",
       "    .dataframe tbody tr th {\n",
       "        vertical-align: top;\n",
       "    }\n",
       "\n",
       "    .dataframe thead th {\n",
       "        text-align: right;\n",
       "    }\n",
       "</style>\n",
       "<table border=\"1\" class=\"dataframe\">\n",
       "  <thead>\n",
       "    <tr style=\"text-align: right;\">\n",
       "      <th></th>\n",
       "      <th>Age</th>\n",
       "      <th>Annual Income (k$)</th>\n",
       "      <th>Spending Score (1-100)</th>\n",
       "    </tr>\n",
       "    <tr>\n",
       "      <th>Multivariate</th>\n",
       "      <th></th>\n",
       "      <th></th>\n",
       "      <th></th>\n",
       "    </tr>\n",
       "  </thead>\n",
       "  <tbody>\n",
       "    <tr>\n",
       "      <th>0</th>\n",
       "      <td>43.088608</td>\n",
       "      <td>55.291139</td>\n",
       "      <td>49.569620</td>\n",
       "    </tr>\n",
       "    <tr>\n",
       "      <th>1</th>\n",
       "      <td>40.914286</td>\n",
       "      <td>86.342857</td>\n",
       "      <td>17.571429</td>\n",
       "    </tr>\n",
       "    <tr>\n",
       "      <th>2</th>\n",
       "      <td>25.521739</td>\n",
       "      <td>26.304348</td>\n",
       "      <td>78.565217</td>\n",
       "    </tr>\n",
       "    <tr>\n",
       "      <th>3</th>\n",
       "      <td>32.763158</td>\n",
       "      <td>85.210526</td>\n",
       "      <td>82.105263</td>\n",
       "    </tr>\n",
       "    <tr>\n",
       "      <th>4</th>\n",
       "      <td>45.217391</td>\n",
       "      <td>26.304348</td>\n",
       "      <td>20.913043</td>\n",
       "    </tr>\n",
       "  </tbody>\n",
       "</table>\n",
       "</div>"
      ],
      "text/plain": [
       "                    Age  Annual Income (k$)  Spending Score (1-100)\n",
       "Multivariate                                                       \n",
       "0             43.088608           55.291139               49.569620\n",
       "1             40.914286           86.342857               17.571429\n",
       "2             25.521739           26.304348               78.565217\n",
       "3             32.763158           85.210526               82.105263\n",
       "4             45.217391           26.304348               20.913043"
      ]
     },
     "execution_count": 65,
     "metadata": {},
     "output_type": "execute_result"
    }
   ],
   "source": [
    "df.groupby('Multivariate')['Age', 'Annual Income (k$)', 'Spending Score (1-100)'].mean()"
   ]
  },
  {
   "cell_type": "markdown",
   "id": "71d9a190",
   "metadata": {},
   "source": [
    "Plotting the Clusters in a 3d graph."
   ]
  },
  {
   "cell_type": "code",
   "execution_count": 66,
   "id": "3968899c",
   "metadata": {},
   "outputs": [],
   "source": [
    "import plotly.express as px\n"
   ]
  },
  {
   "cell_type": "code",
   "execution_count": 83,
   "id": "d7200382",
   "metadata": {},
   "outputs": [
    {
     "data": {
      "application/vnd.plotly.v1+json": {
       "config": {
        "plotlyServerURL": "https://plot.ly"
       },
       "data": [
        {
         "hovertemplate": "Annual Income (k$)=%{x}<br>Spending Score (1-100)=%{y}<br>Age=%{z}<br>Multivariate=%{marker.color}<extra></extra>",
         "legendgroup": "",
         "marker": {
          "color": [
           4,
           2,
           4,
           2,
           4,
           2,
           4,
           2,
           4,
           2,
           4,
           2,
           4,
           2,
           4,
           2,
           4,
           2,
           4,
           2,
           4,
           2,
           4,
           2,
           4,
           2,
           4,
           2,
           4,
           2,
           4,
           2,
           4,
           2,
           4,
           2,
           4,
           2,
           4,
           2,
           4,
           2,
           4,
           2,
           4,
           2,
           0,
           0,
           0,
           0,
           0,
           0,
           0,
           0,
           0,
           0,
           0,
           0,
           0,
           0,
           0,
           0,
           0,
           0,
           0,
           0,
           0,
           0,
           0,
           0,
           0,
           0,
           0,
           0,
           0,
           0,
           0,
           0,
           0,
           0,
           0,
           0,
           0,
           0,
           0,
           0,
           0,
           0,
           0,
           0,
           0,
           0,
           0,
           0,
           0,
           0,
           0,
           0,
           0,
           0,
           0,
           0,
           0,
           0,
           0,
           0,
           0,
           0,
           0,
           0,
           0,
           0,
           0,
           0,
           0,
           0,
           0,
           0,
           0,
           0,
           0,
           0,
           0,
           3,
           1,
           3,
           0,
           3,
           1,
           3,
           1,
           3,
           1,
           3,
           1,
           3,
           1,
           3,
           1,
           3,
           1,
           3,
           0,
           3,
           1,
           3,
           1,
           3,
           1,
           3,
           1,
           3,
           1,
           3,
           1,
           3,
           1,
           3,
           1,
           3,
           1,
           3,
           1,
           3,
           1,
           3,
           1,
           3,
           1,
           3,
           1,
           3,
           1,
           3,
           1,
           3,
           1,
           3,
           1,
           3,
           1,
           3,
           1,
           3,
           1,
           3,
           1,
           3,
           1,
           3,
           1,
           3,
           1,
           3,
           1,
           3,
           1,
           3
          ],
          "coloraxis": "coloraxis",
          "symbol": "circle"
         },
         "mode": "markers",
         "name": "",
         "scene": "scene",
         "showlegend": false,
         "type": "scatter3d",
         "x": [
          15,
          15,
          16,
          16,
          17,
          17,
          18,
          18,
          19,
          19,
          19,
          19,
          20,
          20,
          20,
          20,
          21,
          21,
          23,
          23,
          24,
          24,
          25,
          25,
          28,
          28,
          28,
          28,
          29,
          29,
          30,
          30,
          33,
          33,
          33,
          33,
          34,
          34,
          37,
          37,
          38,
          38,
          39,
          39,
          39,
          39,
          40,
          40,
          40,
          40,
          42,
          42,
          43,
          43,
          43,
          43,
          44,
          44,
          46,
          46,
          46,
          46,
          47,
          47,
          48,
          48,
          48,
          48,
          48,
          48,
          49,
          49,
          50,
          50,
          54,
          54,
          54,
          54,
          54,
          54,
          54,
          54,
          54,
          54,
          54,
          54,
          57,
          57,
          58,
          58,
          59,
          59,
          60,
          60,
          60,
          60,
          60,
          60,
          61,
          61,
          62,
          62,
          62,
          62,
          62,
          62,
          63,
          63,
          63,
          63,
          63,
          63,
          64,
          64,
          65,
          65,
          65,
          65,
          67,
          67,
          67,
          67,
          69,
          69,
          70,
          70,
          71,
          71,
          71,
          71,
          71,
          71,
          72,
          72,
          73,
          73,
          73,
          73,
          74,
          74,
          75,
          75,
          76,
          76,
          77,
          77,
          77,
          77,
          78,
          78,
          78,
          78,
          78,
          78,
          78,
          78,
          78,
          78,
          78,
          78,
          79,
          79,
          81,
          81,
          85,
          85,
          86,
          86,
          87,
          87,
          87,
          87,
          87,
          87,
          88,
          88,
          88,
          88,
          93,
          93,
          97,
          97,
          98,
          98,
          99,
          99,
          101,
          101,
          103,
          103,
          103,
          103,
          113,
          113,
          120,
          120,
          126,
          126
         ],
         "y": [
          39,
          81,
          6,
          77,
          40,
          76,
          6,
          94,
          3,
          72,
          14,
          99,
          15,
          77,
          13,
          79,
          35,
          66,
          29,
          98,
          35,
          73,
          5,
          73,
          14,
          82,
          32,
          61,
          31,
          87,
          4,
          73,
          4,
          92,
          14,
          81,
          17,
          73,
          26,
          75,
          35,
          92,
          36,
          61,
          28,
          65,
          55,
          47,
          42,
          42,
          52,
          60,
          54,
          60,
          45,
          41,
          50,
          46,
          51,
          46,
          56,
          55,
          52,
          59,
          51,
          59,
          50,
          48,
          59,
          47,
          55,
          42,
          49,
          56,
          47,
          54,
          53,
          48,
          52,
          42,
          51,
          55,
          41,
          44,
          57,
          46,
          58,
          55,
          60,
          46,
          55,
          41,
          49,
          40,
          42,
          52,
          47,
          50,
          42,
          49,
          41,
          48,
          59,
          55,
          56,
          42,
          50,
          46,
          43,
          48,
          52,
          54,
          42,
          46,
          48,
          50,
          43,
          59,
          43,
          57,
          56,
          40,
          58,
          91,
          29,
          77,
          35,
          95,
          11,
          75,
          9,
          75,
          34,
          71,
          5,
          88,
          7,
          73,
          10,
          72,
          5,
          93,
          40,
          87,
          12,
          97,
          36,
          74,
          22,
          90,
          17,
          88,
          20,
          76,
          16,
          89,
          1,
          78,
          1,
          73,
          35,
          83,
          5,
          93,
          26,
          75,
          20,
          95,
          27,
          63,
          13,
          75,
          10,
          92,
          13,
          86,
          15,
          69,
          14,
          90,
          32,
          86,
          15,
          88,
          39,
          97,
          24,
          68,
          17,
          85,
          23,
          69,
          8,
          91,
          16,
          79,
          28,
          74
         ],
         "z": [
          19,
          21,
          20,
          23,
          31,
          22,
          35,
          23,
          64,
          30,
          67,
          35,
          58,
          24,
          37,
          22,
          35,
          20,
          52,
          35,
          35,
          25,
          46,
          31,
          54,
          29,
          45,
          35,
          40,
          23,
          60,
          21,
          53,
          18,
          49,
          21,
          42,
          30,
          36,
          20,
          65,
          24,
          48,
          31,
          49,
          24,
          50,
          27,
          29,
          31,
          49,
          33,
          31,
          59,
          50,
          47,
          51,
          69,
          27,
          53,
          70,
          19,
          67,
          54,
          63,
          18,
          43,
          68,
          19,
          32,
          70,
          47,
          60,
          60,
          59,
          26,
          45,
          40,
          23,
          49,
          57,
          38,
          67,
          46,
          21,
          48,
          55,
          22,
          34,
          50,
          68,
          18,
          48,
          40,
          32,
          24,
          47,
          27,
          48,
          20,
          23,
          49,
          67,
          26,
          49,
          21,
          66,
          54,
          68,
          66,
          65,
          19,
          38,
          19,
          18,
          19,
          63,
          49,
          51,
          50,
          27,
          38,
          40,
          39,
          23,
          31,
          43,
          40,
          59,
          38,
          47,
          39,
          25,
          31,
          20,
          29,
          44,
          32,
          19,
          35,
          57,
          32,
          28,
          32,
          25,
          28,
          48,
          32,
          34,
          34,
          43,
          39,
          44,
          38,
          47,
          27,
          37,
          30,
          34,
          30,
          56,
          29,
          19,
          31,
          50,
          36,
          42,
          33,
          36,
          32,
          40,
          28,
          36,
          36,
          52,
          30,
          58,
          27,
          59,
          35,
          37,
          32,
          46,
          29,
          41,
          30,
          54,
          28,
          41,
          36,
          34,
          32,
          33,
          38,
          47,
          35,
          45,
          32
         ]
        }
       ],
       "layout": {
        "coloraxis": {
         "colorbar": {
          "title": {
           "text": "Multivariate"
          }
         },
         "colorscale": [
          [
           0,
           "#0d0887"
          ],
          [
           0.1111111111111111,
           "#46039f"
          ],
          [
           0.2222222222222222,
           "#7201a8"
          ],
          [
           0.3333333333333333,
           "#9c179e"
          ],
          [
           0.4444444444444444,
           "#bd3786"
          ],
          [
           0.5555555555555556,
           "#d8576b"
          ],
          [
           0.6666666666666666,
           "#ed7953"
          ],
          [
           0.7777777777777778,
           "#fb9f3a"
          ],
          [
           0.8888888888888888,
           "#fdca26"
          ],
          [
           1,
           "#f0f921"
          ]
         ]
        },
        "legend": {
         "tracegroupgap": 0
        },
        "margin": {
         "t": 60
        },
        "scene": {
         "domain": {
          "x": [
           0,
           1
          ],
          "y": [
           0,
           1
          ]
         },
         "xaxis": {
          "title": {
           "text": "Annual Income (k$)"
          }
         },
         "yaxis": {
          "title": {
           "text": "Spending Score (1-100)"
          }
         },
         "zaxis": {
          "title": {
           "text": "Age"
          }
         }
        },
        "template": {
         "data": {
          "bar": [
           {
            "error_x": {
             "color": "#2a3f5f"
            },
            "error_y": {
             "color": "#2a3f5f"
            },
            "marker": {
             "line": {
              "color": "#E5ECF6",
              "width": 0.5
             },
             "pattern": {
              "fillmode": "overlay",
              "size": 10,
              "solidity": 0.2
             }
            },
            "type": "bar"
           }
          ],
          "barpolar": [
           {
            "marker": {
             "line": {
              "color": "#E5ECF6",
              "width": 0.5
             },
             "pattern": {
              "fillmode": "overlay",
              "size": 10,
              "solidity": 0.2
             }
            },
            "type": "barpolar"
           }
          ],
          "carpet": [
           {
            "aaxis": {
             "endlinecolor": "#2a3f5f",
             "gridcolor": "white",
             "linecolor": "white",
             "minorgridcolor": "white",
             "startlinecolor": "#2a3f5f"
            },
            "baxis": {
             "endlinecolor": "#2a3f5f",
             "gridcolor": "white",
             "linecolor": "white",
             "minorgridcolor": "white",
             "startlinecolor": "#2a3f5f"
            },
            "type": "carpet"
           }
          ],
          "choropleth": [
           {
            "colorbar": {
             "outlinewidth": 0,
             "ticks": ""
            },
            "type": "choropleth"
           }
          ],
          "contour": [
           {
            "colorbar": {
             "outlinewidth": 0,
             "ticks": ""
            },
            "colorscale": [
             [
              0,
              "#0d0887"
             ],
             [
              0.1111111111111111,
              "#46039f"
             ],
             [
              0.2222222222222222,
              "#7201a8"
             ],
             [
              0.3333333333333333,
              "#9c179e"
             ],
             [
              0.4444444444444444,
              "#bd3786"
             ],
             [
              0.5555555555555556,
              "#d8576b"
             ],
             [
              0.6666666666666666,
              "#ed7953"
             ],
             [
              0.7777777777777778,
              "#fb9f3a"
             ],
             [
              0.8888888888888888,
              "#fdca26"
             ],
             [
              1,
              "#f0f921"
             ]
            ],
            "type": "contour"
           }
          ],
          "contourcarpet": [
           {
            "colorbar": {
             "outlinewidth": 0,
             "ticks": ""
            },
            "type": "contourcarpet"
           }
          ],
          "heatmap": [
           {
            "colorbar": {
             "outlinewidth": 0,
             "ticks": ""
            },
            "colorscale": [
             [
              0,
              "#0d0887"
             ],
             [
              0.1111111111111111,
              "#46039f"
             ],
             [
              0.2222222222222222,
              "#7201a8"
             ],
             [
              0.3333333333333333,
              "#9c179e"
             ],
             [
              0.4444444444444444,
              "#bd3786"
             ],
             [
              0.5555555555555556,
              "#d8576b"
             ],
             [
              0.6666666666666666,
              "#ed7953"
             ],
             [
              0.7777777777777778,
              "#fb9f3a"
             ],
             [
              0.8888888888888888,
              "#fdca26"
             ],
             [
              1,
              "#f0f921"
             ]
            ],
            "type": "heatmap"
           }
          ],
          "heatmapgl": [
           {
            "colorbar": {
             "outlinewidth": 0,
             "ticks": ""
            },
            "colorscale": [
             [
              0,
              "#0d0887"
             ],
             [
              0.1111111111111111,
              "#46039f"
             ],
             [
              0.2222222222222222,
              "#7201a8"
             ],
             [
              0.3333333333333333,
              "#9c179e"
             ],
             [
              0.4444444444444444,
              "#bd3786"
             ],
             [
              0.5555555555555556,
              "#d8576b"
             ],
             [
              0.6666666666666666,
              "#ed7953"
             ],
             [
              0.7777777777777778,
              "#fb9f3a"
             ],
             [
              0.8888888888888888,
              "#fdca26"
             ],
             [
              1,
              "#f0f921"
             ]
            ],
            "type": "heatmapgl"
           }
          ],
          "histogram": [
           {
            "marker": {
             "pattern": {
              "fillmode": "overlay",
              "size": 10,
              "solidity": 0.2
             }
            },
            "type": "histogram"
           }
          ],
          "histogram2d": [
           {
            "colorbar": {
             "outlinewidth": 0,
             "ticks": ""
            },
            "colorscale": [
             [
              0,
              "#0d0887"
             ],
             [
              0.1111111111111111,
              "#46039f"
             ],
             [
              0.2222222222222222,
              "#7201a8"
             ],
             [
              0.3333333333333333,
              "#9c179e"
             ],
             [
              0.4444444444444444,
              "#bd3786"
             ],
             [
              0.5555555555555556,
              "#d8576b"
             ],
             [
              0.6666666666666666,
              "#ed7953"
             ],
             [
              0.7777777777777778,
              "#fb9f3a"
             ],
             [
              0.8888888888888888,
              "#fdca26"
             ],
             [
              1,
              "#f0f921"
             ]
            ],
            "type": "histogram2d"
           }
          ],
          "histogram2dcontour": [
           {
            "colorbar": {
             "outlinewidth": 0,
             "ticks": ""
            },
            "colorscale": [
             [
              0,
              "#0d0887"
             ],
             [
              0.1111111111111111,
              "#46039f"
             ],
             [
              0.2222222222222222,
              "#7201a8"
             ],
             [
              0.3333333333333333,
              "#9c179e"
             ],
             [
              0.4444444444444444,
              "#bd3786"
             ],
             [
              0.5555555555555556,
              "#d8576b"
             ],
             [
              0.6666666666666666,
              "#ed7953"
             ],
             [
              0.7777777777777778,
              "#fb9f3a"
             ],
             [
              0.8888888888888888,
              "#fdca26"
             ],
             [
              1,
              "#f0f921"
             ]
            ],
            "type": "histogram2dcontour"
           }
          ],
          "mesh3d": [
           {
            "colorbar": {
             "outlinewidth": 0,
             "ticks": ""
            },
            "type": "mesh3d"
           }
          ],
          "parcoords": [
           {
            "line": {
             "colorbar": {
              "outlinewidth": 0,
              "ticks": ""
             }
            },
            "type": "parcoords"
           }
          ],
          "pie": [
           {
            "automargin": true,
            "type": "pie"
           }
          ],
          "scatter": [
           {
            "fillpattern": {
             "fillmode": "overlay",
             "size": 10,
             "solidity": 0.2
            },
            "type": "scatter"
           }
          ],
          "scatter3d": [
           {
            "line": {
             "colorbar": {
              "outlinewidth": 0,
              "ticks": ""
             }
            },
            "marker": {
             "colorbar": {
              "outlinewidth": 0,
              "ticks": ""
             }
            },
            "type": "scatter3d"
           }
          ],
          "scattercarpet": [
           {
            "marker": {
             "colorbar": {
              "outlinewidth": 0,
              "ticks": ""
             }
            },
            "type": "scattercarpet"
           }
          ],
          "scattergeo": [
           {
            "marker": {
             "colorbar": {
              "outlinewidth": 0,
              "ticks": ""
             }
            },
            "type": "scattergeo"
           }
          ],
          "scattergl": [
           {
            "marker": {
             "colorbar": {
              "outlinewidth": 0,
              "ticks": ""
             }
            },
            "type": "scattergl"
           }
          ],
          "scattermapbox": [
           {
            "marker": {
             "colorbar": {
              "outlinewidth": 0,
              "ticks": ""
             }
            },
            "type": "scattermapbox"
           }
          ],
          "scatterpolar": [
           {
            "marker": {
             "colorbar": {
              "outlinewidth": 0,
              "ticks": ""
             }
            },
            "type": "scatterpolar"
           }
          ],
          "scatterpolargl": [
           {
            "marker": {
             "colorbar": {
              "outlinewidth": 0,
              "ticks": ""
             }
            },
            "type": "scatterpolargl"
           }
          ],
          "scatterternary": [
           {
            "marker": {
             "colorbar": {
              "outlinewidth": 0,
              "ticks": ""
             }
            },
            "type": "scatterternary"
           }
          ],
          "surface": [
           {
            "colorbar": {
             "outlinewidth": 0,
             "ticks": ""
            },
            "colorscale": [
             [
              0,
              "#0d0887"
             ],
             [
              0.1111111111111111,
              "#46039f"
             ],
             [
              0.2222222222222222,
              "#7201a8"
             ],
             [
              0.3333333333333333,
              "#9c179e"
             ],
             [
              0.4444444444444444,
              "#bd3786"
             ],
             [
              0.5555555555555556,
              "#d8576b"
             ],
             [
              0.6666666666666666,
              "#ed7953"
             ],
             [
              0.7777777777777778,
              "#fb9f3a"
             ],
             [
              0.8888888888888888,
              "#fdca26"
             ],
             [
              1,
              "#f0f921"
             ]
            ],
            "type": "surface"
           }
          ],
          "table": [
           {
            "cells": {
             "fill": {
              "color": "#EBF0F8"
             },
             "line": {
              "color": "white"
             }
            },
            "header": {
             "fill": {
              "color": "#C8D4E3"
             },
             "line": {
              "color": "white"
             }
            },
            "type": "table"
           }
          ]
         },
         "layout": {
          "annotationdefaults": {
           "arrowcolor": "#2a3f5f",
           "arrowhead": 0,
           "arrowwidth": 1
          },
          "autotypenumbers": "strict",
          "coloraxis": {
           "colorbar": {
            "outlinewidth": 0,
            "ticks": ""
           }
          },
          "colorscale": {
           "diverging": [
            [
             0,
             "#8e0152"
            ],
            [
             0.1,
             "#c51b7d"
            ],
            [
             0.2,
             "#de77ae"
            ],
            [
             0.3,
             "#f1b6da"
            ],
            [
             0.4,
             "#fde0ef"
            ],
            [
             0.5,
             "#f7f7f7"
            ],
            [
             0.6,
             "#e6f5d0"
            ],
            [
             0.7,
             "#b8e186"
            ],
            [
             0.8,
             "#7fbc41"
            ],
            [
             0.9,
             "#4d9221"
            ],
            [
             1,
             "#276419"
            ]
           ],
           "sequential": [
            [
             0,
             "#0d0887"
            ],
            [
             0.1111111111111111,
             "#46039f"
            ],
            [
             0.2222222222222222,
             "#7201a8"
            ],
            [
             0.3333333333333333,
             "#9c179e"
            ],
            [
             0.4444444444444444,
             "#bd3786"
            ],
            [
             0.5555555555555556,
             "#d8576b"
            ],
            [
             0.6666666666666666,
             "#ed7953"
            ],
            [
             0.7777777777777778,
             "#fb9f3a"
            ],
            [
             0.8888888888888888,
             "#fdca26"
            ],
            [
             1,
             "#f0f921"
            ]
           ],
           "sequentialminus": [
            [
             0,
             "#0d0887"
            ],
            [
             0.1111111111111111,
             "#46039f"
            ],
            [
             0.2222222222222222,
             "#7201a8"
            ],
            [
             0.3333333333333333,
             "#9c179e"
            ],
            [
             0.4444444444444444,
             "#bd3786"
            ],
            [
             0.5555555555555556,
             "#d8576b"
            ],
            [
             0.6666666666666666,
             "#ed7953"
            ],
            [
             0.7777777777777778,
             "#fb9f3a"
            ],
            [
             0.8888888888888888,
             "#fdca26"
            ],
            [
             1,
             "#f0f921"
            ]
           ]
          },
          "colorway": [
           "#636efa",
           "#EF553B",
           "#00cc96",
           "#ab63fa",
           "#FFA15A",
           "#19d3f3",
           "#FF6692",
           "#B6E880",
           "#FF97FF",
           "#FECB52"
          ],
          "font": {
           "color": "#2a3f5f"
          },
          "geo": {
           "bgcolor": "white",
           "lakecolor": "white",
           "landcolor": "#E5ECF6",
           "showlakes": true,
           "showland": true,
           "subunitcolor": "white"
          },
          "hoverlabel": {
           "align": "left"
          },
          "hovermode": "closest",
          "mapbox": {
           "style": "light"
          },
          "paper_bgcolor": "white",
          "plot_bgcolor": "#E5ECF6",
          "polar": {
           "angularaxis": {
            "gridcolor": "white",
            "linecolor": "white",
            "ticks": ""
           },
           "bgcolor": "#E5ECF6",
           "radialaxis": {
            "gridcolor": "white",
            "linecolor": "white",
            "ticks": ""
           }
          },
          "scene": {
           "xaxis": {
            "backgroundcolor": "#E5ECF6",
            "gridcolor": "white",
            "gridwidth": 2,
            "linecolor": "white",
            "showbackground": true,
            "ticks": "",
            "zerolinecolor": "white"
           },
           "yaxis": {
            "backgroundcolor": "#E5ECF6",
            "gridcolor": "white",
            "gridwidth": 2,
            "linecolor": "white",
            "showbackground": true,
            "ticks": "",
            "zerolinecolor": "white"
           },
           "zaxis": {
            "backgroundcolor": "#E5ECF6",
            "gridcolor": "white",
            "gridwidth": 2,
            "linecolor": "white",
            "showbackground": true,
            "ticks": "",
            "zerolinecolor": "white"
           }
          },
          "shapedefaults": {
           "line": {
            "color": "#2a3f5f"
           }
          },
          "ternary": {
           "aaxis": {
            "gridcolor": "white",
            "linecolor": "white",
            "ticks": ""
           },
           "baxis": {
            "gridcolor": "white",
            "linecolor": "white",
            "ticks": ""
           },
           "bgcolor": "#E5ECF6",
           "caxis": {
            "gridcolor": "white",
            "linecolor": "white",
            "ticks": ""
           }
          },
          "title": {
           "x": 0.05
          },
          "xaxis": {
           "automargin": true,
           "gridcolor": "white",
           "linecolor": "white",
           "ticks": "",
           "title": {
            "standoff": 15
           },
           "zerolinecolor": "white",
           "zerolinewidth": 2
          },
          "yaxis": {
           "automargin": true,
           "gridcolor": "white",
           "linecolor": "white",
           "ticks": "",
           "title": {
            "standoff": 15
           },
           "zerolinecolor": "white",
           "zerolinewidth": 2
          }
         }
        },
        "title": {
         "text": "Multivariate Analysis Clustering"
        }
       }
      },
      "text/html": [
       "<div>                            <div id=\"4e083e1c-1e4e-40d1-96ba-e5b4fc097394\" class=\"plotly-graph-div\" style=\"height:525px; width:100%;\"></div>            <script type=\"text/javascript\">                require([\"plotly\"], function(Plotly) {                    window.PLOTLYENV=window.PLOTLYENV || {};                                    if (document.getElementById(\"4e083e1c-1e4e-40d1-96ba-e5b4fc097394\")) {                    Plotly.newPlot(                        \"4e083e1c-1e4e-40d1-96ba-e5b4fc097394\",                        [{\"hovertemplate\":\"Annual Income (k$)=%{x}<br>Spending Score (1-100)=%{y}<br>Age=%{z}<br>Multivariate=%{marker.color}<extra></extra>\",\"legendgroup\":\"\",\"marker\":{\"color\":[4,2,4,2,4,2,4,2,4,2,4,2,4,2,4,2,4,2,4,2,4,2,4,2,4,2,4,2,4,2,4,2,4,2,4,2,4,2,4,2,4,2,4,2,4,2,0,0,0,0,0,0,0,0,0,0,0,0,0,0,0,0,0,0,0,0,0,0,0,0,0,0,0,0,0,0,0,0,0,0,0,0,0,0,0,0,0,0,0,0,0,0,0,0,0,0,0,0,0,0,0,0,0,0,0,0,0,0,0,0,0,0,0,0,0,0,0,0,0,0,0,0,0,3,1,3,0,3,1,3,1,3,1,3,1,3,1,3,1,3,1,3,0,3,1,3,1,3,1,3,1,3,1,3,1,3,1,3,1,3,1,3,1,3,1,3,1,3,1,3,1,3,1,3,1,3,1,3,1,3,1,3,1,3,1,3,1,3,1,3,1,3,1,3,1,3,1,3],\"coloraxis\":\"coloraxis\",\"symbol\":\"circle\"},\"mode\":\"markers\",\"name\":\"\",\"scene\":\"scene\",\"showlegend\":false,\"x\":[15,15,16,16,17,17,18,18,19,19,19,19,20,20,20,20,21,21,23,23,24,24,25,25,28,28,28,28,29,29,30,30,33,33,33,33,34,34,37,37,38,38,39,39,39,39,40,40,40,40,42,42,43,43,43,43,44,44,46,46,46,46,47,47,48,48,48,48,48,48,49,49,50,50,54,54,54,54,54,54,54,54,54,54,54,54,57,57,58,58,59,59,60,60,60,60,60,60,61,61,62,62,62,62,62,62,63,63,63,63,63,63,64,64,65,65,65,65,67,67,67,67,69,69,70,70,71,71,71,71,71,71,72,72,73,73,73,73,74,74,75,75,76,76,77,77,77,77,78,78,78,78,78,78,78,78,78,78,78,78,79,79,81,81,85,85,86,86,87,87,87,87,87,87,88,88,88,88,93,93,97,97,98,98,99,99,101,101,103,103,103,103,113,113,120,120,126,126],\"y\":[39,81,6,77,40,76,6,94,3,72,14,99,15,77,13,79,35,66,29,98,35,73,5,73,14,82,32,61,31,87,4,73,4,92,14,81,17,73,26,75,35,92,36,61,28,65,55,47,42,42,52,60,54,60,45,41,50,46,51,46,56,55,52,59,51,59,50,48,59,47,55,42,49,56,47,54,53,48,52,42,51,55,41,44,57,46,58,55,60,46,55,41,49,40,42,52,47,50,42,49,41,48,59,55,56,42,50,46,43,48,52,54,42,46,48,50,43,59,43,57,56,40,58,91,29,77,35,95,11,75,9,75,34,71,5,88,7,73,10,72,5,93,40,87,12,97,36,74,22,90,17,88,20,76,16,89,1,78,1,73,35,83,5,93,26,75,20,95,27,63,13,75,10,92,13,86,15,69,14,90,32,86,15,88,39,97,24,68,17,85,23,69,8,91,16,79,28,74],\"z\":[19,21,20,23,31,22,35,23,64,30,67,35,58,24,37,22,35,20,52,35,35,25,46,31,54,29,45,35,40,23,60,21,53,18,49,21,42,30,36,20,65,24,48,31,49,24,50,27,29,31,49,33,31,59,50,47,51,69,27,53,70,19,67,54,63,18,43,68,19,32,70,47,60,60,59,26,45,40,23,49,57,38,67,46,21,48,55,22,34,50,68,18,48,40,32,24,47,27,48,20,23,49,67,26,49,21,66,54,68,66,65,19,38,19,18,19,63,49,51,50,27,38,40,39,23,31,43,40,59,38,47,39,25,31,20,29,44,32,19,35,57,32,28,32,25,28,48,32,34,34,43,39,44,38,47,27,37,30,34,30,56,29,19,31,50,36,42,33,36,32,40,28,36,36,52,30,58,27,59,35,37,32,46,29,41,30,54,28,41,36,34,32,33,38,47,35,45,32],\"type\":\"scatter3d\"}],                        {\"template\":{\"data\":{\"histogram2dcontour\":[{\"type\":\"histogram2dcontour\",\"colorbar\":{\"outlinewidth\":0,\"ticks\":\"\"},\"colorscale\":[[0.0,\"#0d0887\"],[0.1111111111111111,\"#46039f\"],[0.2222222222222222,\"#7201a8\"],[0.3333333333333333,\"#9c179e\"],[0.4444444444444444,\"#bd3786\"],[0.5555555555555556,\"#d8576b\"],[0.6666666666666666,\"#ed7953\"],[0.7777777777777778,\"#fb9f3a\"],[0.8888888888888888,\"#fdca26\"],[1.0,\"#f0f921\"]]}],\"choropleth\":[{\"type\":\"choropleth\",\"colorbar\":{\"outlinewidth\":0,\"ticks\":\"\"}}],\"histogram2d\":[{\"type\":\"histogram2d\",\"colorbar\":{\"outlinewidth\":0,\"ticks\":\"\"},\"colorscale\":[[0.0,\"#0d0887\"],[0.1111111111111111,\"#46039f\"],[0.2222222222222222,\"#7201a8\"],[0.3333333333333333,\"#9c179e\"],[0.4444444444444444,\"#bd3786\"],[0.5555555555555556,\"#d8576b\"],[0.6666666666666666,\"#ed7953\"],[0.7777777777777778,\"#fb9f3a\"],[0.8888888888888888,\"#fdca26\"],[1.0,\"#f0f921\"]]}],\"heatmap\":[{\"type\":\"heatmap\",\"colorbar\":{\"outlinewidth\":0,\"ticks\":\"\"},\"colorscale\":[[0.0,\"#0d0887\"],[0.1111111111111111,\"#46039f\"],[0.2222222222222222,\"#7201a8\"],[0.3333333333333333,\"#9c179e\"],[0.4444444444444444,\"#bd3786\"],[0.5555555555555556,\"#d8576b\"],[0.6666666666666666,\"#ed7953\"],[0.7777777777777778,\"#fb9f3a\"],[0.8888888888888888,\"#fdca26\"],[1.0,\"#f0f921\"]]}],\"heatmapgl\":[{\"type\":\"heatmapgl\",\"colorbar\":{\"outlinewidth\":0,\"ticks\":\"\"},\"colorscale\":[[0.0,\"#0d0887\"],[0.1111111111111111,\"#46039f\"],[0.2222222222222222,\"#7201a8\"],[0.3333333333333333,\"#9c179e\"],[0.4444444444444444,\"#bd3786\"],[0.5555555555555556,\"#d8576b\"],[0.6666666666666666,\"#ed7953\"],[0.7777777777777778,\"#fb9f3a\"],[0.8888888888888888,\"#fdca26\"],[1.0,\"#f0f921\"]]}],\"contourcarpet\":[{\"type\":\"contourcarpet\",\"colorbar\":{\"outlinewidth\":0,\"ticks\":\"\"}}],\"contour\":[{\"type\":\"contour\",\"colorbar\":{\"outlinewidth\":0,\"ticks\":\"\"},\"colorscale\":[[0.0,\"#0d0887\"],[0.1111111111111111,\"#46039f\"],[0.2222222222222222,\"#7201a8\"],[0.3333333333333333,\"#9c179e\"],[0.4444444444444444,\"#bd3786\"],[0.5555555555555556,\"#d8576b\"],[0.6666666666666666,\"#ed7953\"],[0.7777777777777778,\"#fb9f3a\"],[0.8888888888888888,\"#fdca26\"],[1.0,\"#f0f921\"]]}],\"surface\":[{\"type\":\"surface\",\"colorbar\":{\"outlinewidth\":0,\"ticks\":\"\"},\"colorscale\":[[0.0,\"#0d0887\"],[0.1111111111111111,\"#46039f\"],[0.2222222222222222,\"#7201a8\"],[0.3333333333333333,\"#9c179e\"],[0.4444444444444444,\"#bd3786\"],[0.5555555555555556,\"#d8576b\"],[0.6666666666666666,\"#ed7953\"],[0.7777777777777778,\"#fb9f3a\"],[0.8888888888888888,\"#fdca26\"],[1.0,\"#f0f921\"]]}],\"mesh3d\":[{\"type\":\"mesh3d\",\"colorbar\":{\"outlinewidth\":0,\"ticks\":\"\"}}],\"scatter\":[{\"fillpattern\":{\"fillmode\":\"overlay\",\"size\":10,\"solidity\":0.2},\"type\":\"scatter\"}],\"parcoords\":[{\"type\":\"parcoords\",\"line\":{\"colorbar\":{\"outlinewidth\":0,\"ticks\":\"\"}}}],\"scatterpolargl\":[{\"type\":\"scatterpolargl\",\"marker\":{\"colorbar\":{\"outlinewidth\":0,\"ticks\":\"\"}}}],\"bar\":[{\"error_x\":{\"color\":\"#2a3f5f\"},\"error_y\":{\"color\":\"#2a3f5f\"},\"marker\":{\"line\":{\"color\":\"#E5ECF6\",\"width\":0.5},\"pattern\":{\"fillmode\":\"overlay\",\"size\":10,\"solidity\":0.2}},\"type\":\"bar\"}],\"scattergeo\":[{\"type\":\"scattergeo\",\"marker\":{\"colorbar\":{\"outlinewidth\":0,\"ticks\":\"\"}}}],\"scatterpolar\":[{\"type\":\"scatterpolar\",\"marker\":{\"colorbar\":{\"outlinewidth\":0,\"ticks\":\"\"}}}],\"histogram\":[{\"marker\":{\"pattern\":{\"fillmode\":\"overlay\",\"size\":10,\"solidity\":0.2}},\"type\":\"histogram\"}],\"scattergl\":[{\"type\":\"scattergl\",\"marker\":{\"colorbar\":{\"outlinewidth\":0,\"ticks\":\"\"}}}],\"scatter3d\":[{\"type\":\"scatter3d\",\"line\":{\"colorbar\":{\"outlinewidth\":0,\"ticks\":\"\"}},\"marker\":{\"colorbar\":{\"outlinewidth\":0,\"ticks\":\"\"}}}],\"scattermapbox\":[{\"type\":\"scattermapbox\",\"marker\":{\"colorbar\":{\"outlinewidth\":0,\"ticks\":\"\"}}}],\"scatterternary\":[{\"type\":\"scatterternary\",\"marker\":{\"colorbar\":{\"outlinewidth\":0,\"ticks\":\"\"}}}],\"scattercarpet\":[{\"type\":\"scattercarpet\",\"marker\":{\"colorbar\":{\"outlinewidth\":0,\"ticks\":\"\"}}}],\"carpet\":[{\"aaxis\":{\"endlinecolor\":\"#2a3f5f\",\"gridcolor\":\"white\",\"linecolor\":\"white\",\"minorgridcolor\":\"white\",\"startlinecolor\":\"#2a3f5f\"},\"baxis\":{\"endlinecolor\":\"#2a3f5f\",\"gridcolor\":\"white\",\"linecolor\":\"white\",\"minorgridcolor\":\"white\",\"startlinecolor\":\"#2a3f5f\"},\"type\":\"carpet\"}],\"table\":[{\"cells\":{\"fill\":{\"color\":\"#EBF0F8\"},\"line\":{\"color\":\"white\"}},\"header\":{\"fill\":{\"color\":\"#C8D4E3\"},\"line\":{\"color\":\"white\"}},\"type\":\"table\"}],\"barpolar\":[{\"marker\":{\"line\":{\"color\":\"#E5ECF6\",\"width\":0.5},\"pattern\":{\"fillmode\":\"overlay\",\"size\":10,\"solidity\":0.2}},\"type\":\"barpolar\"}],\"pie\":[{\"automargin\":true,\"type\":\"pie\"}]},\"layout\":{\"autotypenumbers\":\"strict\",\"colorway\":[\"#636efa\",\"#EF553B\",\"#00cc96\",\"#ab63fa\",\"#FFA15A\",\"#19d3f3\",\"#FF6692\",\"#B6E880\",\"#FF97FF\",\"#FECB52\"],\"font\":{\"color\":\"#2a3f5f\"},\"hovermode\":\"closest\",\"hoverlabel\":{\"align\":\"left\"},\"paper_bgcolor\":\"white\",\"plot_bgcolor\":\"#E5ECF6\",\"polar\":{\"bgcolor\":\"#E5ECF6\",\"angularaxis\":{\"gridcolor\":\"white\",\"linecolor\":\"white\",\"ticks\":\"\"},\"radialaxis\":{\"gridcolor\":\"white\",\"linecolor\":\"white\",\"ticks\":\"\"}},\"ternary\":{\"bgcolor\":\"#E5ECF6\",\"aaxis\":{\"gridcolor\":\"white\",\"linecolor\":\"white\",\"ticks\":\"\"},\"baxis\":{\"gridcolor\":\"white\",\"linecolor\":\"white\",\"ticks\":\"\"},\"caxis\":{\"gridcolor\":\"white\",\"linecolor\":\"white\",\"ticks\":\"\"}},\"coloraxis\":{\"colorbar\":{\"outlinewidth\":0,\"ticks\":\"\"}},\"colorscale\":{\"sequential\":[[0.0,\"#0d0887\"],[0.1111111111111111,\"#46039f\"],[0.2222222222222222,\"#7201a8\"],[0.3333333333333333,\"#9c179e\"],[0.4444444444444444,\"#bd3786\"],[0.5555555555555556,\"#d8576b\"],[0.6666666666666666,\"#ed7953\"],[0.7777777777777778,\"#fb9f3a\"],[0.8888888888888888,\"#fdca26\"],[1.0,\"#f0f921\"]],\"sequentialminus\":[[0.0,\"#0d0887\"],[0.1111111111111111,\"#46039f\"],[0.2222222222222222,\"#7201a8\"],[0.3333333333333333,\"#9c179e\"],[0.4444444444444444,\"#bd3786\"],[0.5555555555555556,\"#d8576b\"],[0.6666666666666666,\"#ed7953\"],[0.7777777777777778,\"#fb9f3a\"],[0.8888888888888888,\"#fdca26\"],[1.0,\"#f0f921\"]],\"diverging\":[[0,\"#8e0152\"],[0.1,\"#c51b7d\"],[0.2,\"#de77ae\"],[0.3,\"#f1b6da\"],[0.4,\"#fde0ef\"],[0.5,\"#f7f7f7\"],[0.6,\"#e6f5d0\"],[0.7,\"#b8e186\"],[0.8,\"#7fbc41\"],[0.9,\"#4d9221\"],[1,\"#276419\"]]},\"xaxis\":{\"gridcolor\":\"white\",\"linecolor\":\"white\",\"ticks\":\"\",\"title\":{\"standoff\":15},\"zerolinecolor\":\"white\",\"automargin\":true,\"zerolinewidth\":2},\"yaxis\":{\"gridcolor\":\"white\",\"linecolor\":\"white\",\"ticks\":\"\",\"title\":{\"standoff\":15},\"zerolinecolor\":\"white\",\"automargin\":true,\"zerolinewidth\":2},\"scene\":{\"xaxis\":{\"backgroundcolor\":\"#E5ECF6\",\"gridcolor\":\"white\",\"linecolor\":\"white\",\"showbackground\":true,\"ticks\":\"\",\"zerolinecolor\":\"white\",\"gridwidth\":2},\"yaxis\":{\"backgroundcolor\":\"#E5ECF6\",\"gridcolor\":\"white\",\"linecolor\":\"white\",\"showbackground\":true,\"ticks\":\"\",\"zerolinecolor\":\"white\",\"gridwidth\":2},\"zaxis\":{\"backgroundcolor\":\"#E5ECF6\",\"gridcolor\":\"white\",\"linecolor\":\"white\",\"showbackground\":true,\"ticks\":\"\",\"zerolinecolor\":\"white\",\"gridwidth\":2}},\"shapedefaults\":{\"line\":{\"color\":\"#2a3f5f\"}},\"annotationdefaults\":{\"arrowcolor\":\"#2a3f5f\",\"arrowhead\":0,\"arrowwidth\":1},\"geo\":{\"bgcolor\":\"white\",\"landcolor\":\"#E5ECF6\",\"subunitcolor\":\"white\",\"showland\":true,\"showlakes\":true,\"lakecolor\":\"white\"},\"title\":{\"x\":0.05},\"mapbox\":{\"style\":\"light\"}}},\"scene\":{\"domain\":{\"x\":[0.0,1.0],\"y\":[0.0,1.0]},\"xaxis\":{\"title\":{\"text\":\"Annual Income (k$)\"}},\"yaxis\":{\"title\":{\"text\":\"Spending Score (1-100)\"}},\"zaxis\":{\"title\":{\"text\":\"Age\"}}},\"coloraxis\":{\"colorbar\":{\"title\":{\"text\":\"Multivariate\"}},\"colorscale\":[[0.0,\"#0d0887\"],[0.1111111111111111,\"#46039f\"],[0.2222222222222222,\"#7201a8\"],[0.3333333333333333,\"#9c179e\"],[0.4444444444444444,\"#bd3786\"],[0.5555555555555556,\"#d8576b\"],[0.6666666666666666,\"#ed7953\"],[0.7777777777777778,\"#fb9f3a\"],[0.8888888888888888,\"#fdca26\"],[1.0,\"#f0f921\"]]},\"legend\":{\"tracegroupgap\":0},\"margin\":{\"t\":60},\"title\":{\"text\":\"Multivariate Analysis Clustering\"}},                        {\"responsive\": true}                    ).then(function(){\n",
       "                            \n",
       "var gd = document.getElementById('4e083e1c-1e4e-40d1-96ba-e5b4fc097394');\n",
       "var x = new MutationObserver(function (mutations, observer) {{\n",
       "        var display = window.getComputedStyle(gd).display;\n",
       "        if (!display || display === 'none') {{\n",
       "            console.log([gd, 'removed!']);\n",
       "            Plotly.purge(gd);\n",
       "            observer.disconnect();\n",
       "        }}\n",
       "}});\n",
       "\n",
       "// Listen for the removal of the full notebook cells\n",
       "var notebookContainer = gd.closest('#notebook-container');\n",
       "if (notebookContainer) {{\n",
       "    x.observe(notebookContainer, {childList: true});\n",
       "}}\n",
       "\n",
       "// Listen for the clearing of the current output cell\n",
       "var outputEl = gd.closest('.output');\n",
       "if (outputEl) {{\n",
       "    x.observe(outputEl, {childList: true});\n",
       "}}\n",
       "\n",
       "                        })                };                });            </script>        </div>"
      ]
     },
     "metadata": {},
     "output_type": "display_data"
    }
   ],
   "source": [
    "fig_3d = px.scatter_3d(df,df['Annual Income (k$)'],df['Spending Score (1-100)'],df['Age'],color=df['Multivariate'])\n",
    "fig_3d.update_layout(title='Multivariate Analysis Clustering')\n",
    "fig_3d.show()"
   ]
  },
  {
   "cell_type": "markdown",
   "id": "f6227763",
   "metadata": {},
   "source": [
    "# Cluster Recommendation Engine."
   ]
  },
  {
   "cell_type": "code",
   "execution_count": 68,
   "id": "86528b7e",
   "metadata": {},
   "outputs": [
    {
     "name": "stdout",
     "output_type": "stream",
     "text": [
      "[4]\n"
     ]
    }
   ],
   "source": [
    "# First we give input of gender,age,anunual income,Spending Score\n",
    "# Then turn it into a dataframe and transpose it , then feed to kmeans to predict.\n",
    "import numpy as np\n",
    "data = (0,35,21,35)\n",
    "data = pd.DataFrame(data)\n",
    "data = data.T\n",
    "print(kmean.predict(data))"
   ]
  },
  {
   "cell_type": "code",
   "execution_count": 69,
   "id": "df6aca88",
   "metadata": {},
   "outputs": [],
   "source": [
    "# Prediction preprocessing\n",
    "def predict(x):\n",
    "    data1 = x.split(\",\")\n",
    "    if(data1[0]=='male'):\n",
    "        data1[0]=1\n",
    "    else:\n",
    "        data1[0]=0\n",
    "    data1 = pd.DataFrame(data1)\n",
    "    data1 = data1.T\n",
    "    cluster_pred =kmean.predict(data1)\n",
    "    return cluster_pred[0]"
   ]
  },
  {
   "cell_type": "code",
   "execution_count": 70,
   "id": "9a213aa9",
   "metadata": {},
   "outputs": [
    {
     "name": "stdout",
     "output_type": "stream",
     "text": [
      "Please Enter Gender :\n",
      "Age :\n",
      "Annual Income :\n",
      "Spending Score :\n",
      "female,35,17,9\n"
     ]
    },
    {
     "data": {
      "text/plain": [
       "4"
      ]
     },
     "execution_count": 70,
     "metadata": {},
     "output_type": "execute_result"
    }
   ],
   "source": [
    "customer_info = input('Please Enter Gender :\\nAge :\\nAnnual Income :\\nSpending Score :\\n')\n",
    "predict(customer_info)"
   ]
  },
  {
   "cell_type": "code",
   "execution_count": 72,
   "id": "482d8912",
   "metadata": {},
   "outputs": [
    {
     "ename": "NameError",
     "evalue": "name 'data1' is not defined",
     "output_type": "error",
     "traceback": [
      "\u001b[1;31m---------------------------------------------------------------------------\u001b[0m",
      "\u001b[1;31mNameError\u001b[0m                                 Traceback (most recent call last)",
      "Input \u001b[1;32mIn [72]\u001b[0m, in \u001b[0;36m<module>\u001b[1;34m\u001b[0m\n\u001b[1;32m----> 1\u001b[0m \u001b[43mdata1\u001b[49m[\u001b[38;5;124m'\u001b[39m\u001b[38;5;124mGender\u001b[39m\u001b[38;5;124m'\u001b[39m] \u001b[38;5;241m=\u001b[39m \u001b[38;5;124m'\u001b[39m\u001b[38;5;124m1\u001b[39m\u001b[38;5;124m'\u001b[39m\n\u001b[0;32m      2\u001b[0m data1[\u001b[38;5;124m'\u001b[39m\u001b[38;5;124mAge\u001b[39m\u001b[38;5;124m'\u001b[39m] \u001b[38;5;241m=\u001b[39m \u001b[38;5;124m'\u001b[39m\u001b[38;5;124m19\u001b[39m\u001b[38;5;124m'\u001b[39m\n\u001b[0;32m      3\u001b[0m data1[\u001b[38;5;124m'\u001b[39m\u001b[38;5;124mAnnual Income (k$)\u001b[39m\u001b[38;5;124m'\u001b[39m] \u001b[38;5;241m=\u001b[39m \u001b[38;5;124m'\u001b[39m\u001b[38;5;124m15\u001b[39m\u001b[38;5;124m'\u001b[39m\n",
      "\u001b[1;31mNameError\u001b[0m: name 'data1' is not defined"
     ]
    }
   ],
   "source": [
    "\n",
    "data1['Gender'] = '1'\n",
    "data1['Age'] = '19'\n",
    "data1['Annual Income (k$)'] = '15'\n",
    "data1['Spending Score (1-100)'] = '39'\n",
    "data1['Cluster'] = 0"
   ]
  },
  {
   "cell_type": "code",
   "execution_count": 73,
   "id": "4dc33bea",
   "metadata": {},
   "outputs": [
    {
     "ename": "NameError",
     "evalue": "name 'data1' is not defined",
     "output_type": "error",
     "traceback": [
      "\u001b[1;31m---------------------------------------------------------------------------\u001b[0m",
      "\u001b[1;31mNameError\u001b[0m                                 Traceback (most recent call last)",
      "Input \u001b[1;32mIn [73]\u001b[0m, in \u001b[0;36m<module>\u001b[1;34m\u001b[0m\n\u001b[1;32m----> 1\u001b[0m \u001b[43mdata1\u001b[49m\u001b[38;5;241m.\u001b[39mhead()\n",
      "\u001b[1;31mNameError\u001b[0m: name 'data1' is not defined"
     ]
    }
   ],
   "source": [
    "data1.head()"
   ]
  },
  {
   "cell_type": "code",
   "execution_count": 74,
   "id": "1e6bd99e",
   "metadata": {},
   "outputs": [
    {
     "ename": "NameError",
     "evalue": "name 'data1' is not defined",
     "output_type": "error",
     "traceback": [
      "\u001b[1;31m---------------------------------------------------------------------------\u001b[0m",
      "\u001b[1;31mNameError\u001b[0m                                 Traceback (most recent call last)",
      "Input \u001b[1;32mIn [74]\u001b[0m, in \u001b[0;36m<module>\u001b[1;34m\u001b[0m\n\u001b[1;32m----> 1\u001b[0m fig2_3d \u001b[38;5;241m=\u001b[39m px\u001b[38;5;241m.\u001b[39mscatter_3d(\u001b[43mdata1\u001b[49m,data1[\u001b[38;5;124m'\u001b[39m\u001b[38;5;124mAnnual Income (k$)\u001b[39m\u001b[38;5;124m'\u001b[39m],data1[\u001b[38;5;124m'\u001b[39m\u001b[38;5;124mSpending Score (1-100)\u001b[39m\u001b[38;5;124m'\u001b[39m],data1[\u001b[38;5;124m'\u001b[39m\u001b[38;5;124mAge\u001b[39m\u001b[38;5;124m'\u001b[39m],color\u001b[38;5;241m=\u001b[39mdata1[\u001b[38;5;124m'\u001b[39m\u001b[38;5;124mCluster\u001b[39m\u001b[38;5;124m'\u001b[39m])\n\u001b[0;32m      2\u001b[0m fig2_3d\u001b[38;5;241m.\u001b[39mshow()\n",
      "\u001b[1;31mNameError\u001b[0m: name 'data1' is not defined"
     ]
    }
   ],
   "source": [
    "fig2_3d = px.scatter_3d(data1,data1['Annual Income (k$)'],data1['Spending Score (1-100)'],data1['Age'],color=data1['Cluster'])\n",
    "fig2_3d.show()"
   ]
  },
  {
   "cell_type": "code",
   "execution_count": null,
   "id": "b0183bb7",
   "metadata": {},
   "outputs": [],
   "source": []
  }
 ],
 "metadata": {
  "kernelspec": {
   "display_name": "Python 3 (ipykernel)",
   "language": "python",
   "name": "python3"
  },
  "language_info": {
   "codemirror_mode": {
    "name": "ipython",
    "version": 3
   },
   "file_extension": ".py",
   "mimetype": "text/x-python",
   "name": "python",
   "nbconvert_exporter": "python",
   "pygments_lexer": "ipython3",
   "version": "3.9.9"
  }
 },
 "nbformat": 4,
 "nbformat_minor": 5
}
